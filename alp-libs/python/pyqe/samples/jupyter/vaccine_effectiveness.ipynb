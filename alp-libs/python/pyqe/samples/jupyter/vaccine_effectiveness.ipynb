{
 "cells": [
  {
   "cell_type": "code",
   "execution_count": 1,
   "metadata": {},
   "outputs": [],
   "source": [
    " # Path has to be set before importing pyqe\n",
    "import sys, os \n",
    "sys.path.append(os.path.join(sys.path[0],'..', '..'))\n",
    " \n",
    "import json\n",
    "from pyqe.api.query import Query\n",
    "from pyqe.api.result import Result\n",
    "from pyqe.ql.attribute import Constraint, Expression\n",
    "from pyqe.types.enum_types import ComparisonOperator\n",
    "from pyqe.ql.person import Person"
   ]
  },
  {
   "cell_type": "code",
   "execution_count": 2,
   "metadata": {},
   "outputs": [
    {
     "name": "stderr",
     "output_type": "stream",
     "text": [
      "01-Dec-2023 14:06:58 - INFO - Username is: admin\n",
      "01-Dec-2023 14:06:58 - INFO - Authenticating with CFUAA..\n",
      "01-Dec-2023 14:07:00 - INFO - Authentication successful\n"
     ]
    }
   ],
   "source": [
    "query = Query('Number_of_patients_who_are_doctor')\n",
    "query.set_study(\"703c5d8a-a1d9-4d42-a314-5b9aad513390\")"
   ]
  },
  {
   "cell_type": "code",
   "execution_count": 7,
   "metadata": {},
   "outputs": [
    {
     "data": {
      "text/plain": [
       "<pyqe.ql.person.Patient at 0x1379eab50>"
      ]
     },
     "execution_count": 7,
     "metadata": {},
     "output_type": "execute_result"
    }
   ],
   "source": [
    "vaccineEffectivenessPatient = Person.Patient()\n",
    "\n",
    "doctor_constraint = Constraint().add(Expression(ComparisonOperator.EQUAL, 'doctor'))\n",
    "nurse_constraint = Constraint().add(Expression(ComparisonOperator.EQUAL, 'nursing_staff'))\n",
    "vaccineEffectivenessPatient.add_groupid([doctor_constraint, nurse_constraint])"
   ]
  },
  {
   "cell_type": "code",
   "execution_count": 8,
   "metadata": {},
   "outputs": [],
   "source": [
    "query.add_filters([vaccineEffectivenessPatient])\n",
    "request = query.get_patient_count_filter()"
   ]
  },
  {
   "cell_type": "code",
   "execution_count": 9,
   "metadata": {},
   "outputs": [
    {
     "name": "stdout",
     "output_type": "stream",
     "text": [
      "\n",
      "Total filtered patient in vaccine effectiveness study: 0\n"
     ]
    }
   ],
   "source": [
    "patient_count = Result().get_patient_count(request)\n",
    "print(f'\\nTotal filtered patient in vaccine effectiveness study: { patient_count }')"
   ]
  }
 ],
 "metadata": {
  "kernelspec": {
   "display_name": "Python 3.9.15 ('pyqeenv': venv)",
   "language": "python",
   "name": "python3"
  },
  "language_info": {
   "codemirror_mode": {
    "name": "ipython",
    "version": 3
   },
   "file_extension": ".py",
   "mimetype": "text/x-python",
   "name": "python",
   "nbconvert_exporter": "python",
   "pygments_lexer": "ipython3",
   "version": "3.9.15"
  },
  "orig_nbformat": 2,
  "vscode": {
   "interpreter": {
    "hash": "0cbd3df2f8d42fe7c3628ff2c211d017ccbf0b769c116dde5fc0be94617af007"
   }
  }
 },
 "nbformat": 4,
 "nbformat_minor": 2
}
