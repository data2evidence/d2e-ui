{
 "cells": [
  {
   "cell_type": "markdown",
   "metadata": {},
   "source": [
    "# PyQE cohorts demo"
   ]
  },
  {
   "cell_type": "markdown",
   "metadata": {},
   "source": [
    "1. Set up imports"
   ]
  },
  {
   "cell_type": "code",
   "execution_count": 2,
   "metadata": {},
   "outputs": [],
   "source": [
    "# Path has to be set before importing pyqe\n",
    "import sys, os\n",
    "sys.path.append(os.path.join(sys.path[0],'..', '..'))\n",
    "\n",
    "import json\n",
    "from pyqe import *\n",
    "from pyqe.api.query import Query\n",
    "from pyqe.api.cohort import Cohort\n",
    "from pyqe.shared.b64encode_query import _EncodeQueryStringMixin\n"
   ]
  },
  {
   "attachments": {},
   "cell_type": "markdown",
   "metadata": {},
   "source": [
    "2. Define query with name"
   ]
  },
  {
   "cell_type": "code",
   "execution_count": 3,
   "metadata": {},
   "outputs": [
    {
     "name": "stderr",
     "output_type": "stream",
     "text": [
      "08-Mar-2024 16:55:20 - INFO - Username is: admin\n",
      "08-Mar-2024 16:55:20 - INFO - Authenticating with CFUAA..\n",
      "08-Mar-2024 16:55:22 - INFO - Authentication successful\n"
     ]
    }
   ],
   "source": [
    "query = Query('Cohort')"
   ]
  },
  {
   "attachments": {},
   "cell_type": "markdown",
   "metadata": {},
   "source": [
    "3. Set study and configuration"
   ]
  },
  {
   "cell_type": "code",
   "execution_count": 4,
   "metadata": {},
   "outputs": [],
   "source": [
    "query.set_study('703c5d8a-a1d9-4d42-a314-5b9aad513390')"
   ]
  },
  {
   "attachments": {},
   "cell_type": "markdown",
   "metadata": {},
   "source": [
    "4. Initialise cohort class with study id as parameter"
   ]
  },
  {
   "cell_type": "code",
   "execution_count": 4,
   "metadata": {},
   "outputs": [],
   "source": [
    "cohort = Cohort('703c5d8a-a1d9-4d42-a314-5b9aad513390')"
   ]
  },
  {
   "attachments": {},
   "cell_type": "markdown",
   "metadata": {},
   "source": [
    "5. Create a cohort with all female patients"
   ]
  },
  {
   "cell_type": "code",
   "execution_count": 5,
   "metadata": {},
   "outputs": [],
   "source": [
    "female_patient = Person.Patient()\n",
    "female_constraint = Constraint().add(Expression(ComparisonOperator.EQUAL, 'Female'))\n",
    "female_patient.add_gender([female_constraint])\n",
    "query.add_filters([female_patient])"
   ]
  },
  {
   "cell_type": "code",
   "execution_count": 6,
   "metadata": {},
   "outputs": [
    {
     "name": "stdout",
     "output_type": "stream",
     "text": [
      "creating cohort..\n"
     ]
    },
    {
     "data": {
      "text/plain": [
       "'Inserted  rows to COHORT_DEFINITION and [object Object] rows to COHORT\\n            '"
      ]
     },
     "execution_count": 6,
     "metadata": {},
     "output_type": "execute_result"
    }
   ],
   "source": [
    "cohortRequest = query.get_cohort()\n",
    "\n",
    "cohort_definition = {\n",
    "    \"mriquery\": cohortRequest,\n",
    "    \"name\": \"my test cohort\",\n",
    "    \"description\": \"test cohort\",\n",
    "    \"syntax\": {\"ConceptSets\": [], \"CensorWindow\": {}, \"InclusionRules\": [{\"name\": \"Age\", \"expression\": {\"Type\": \"ALL\", \"Groups\": [], \"CriteriaList\": [], \"DemographicCriteriaList\": [{\"Age\": {\"Op\": \"gt\", \"Value\": 18}}]}}], \"QualifiedLimit\": {\"Type\": \"First\"}, \"ExpressionLimit\": {\"Type\": \"All\"}, \"PrimaryCriteria\": {\"CriteriaList\": [{\"VisitOccurrence\": {\"VisitTypeExclude\": \"false\"}}], \"ObservationWindow\": {\"PostDays\": 0, \"PriorDays\": 0}, \"PrimaryCriteriaLimit\": {\"Type\": \"All\"}}, \"cdmVersionRange\": \">=5.0.0\", \"CollapseSettings\": {\"EraPad\": 0, \"CollapseType\": \"ERA\"}, \"CensoringCriteria\": []}\n",
    "}\n",
    "\n",
    "cohort.create_cohort(cohort_definition)"
   ]
  },
  {
   "attachments": {},
   "cell_type": "markdown",
   "metadata": {},
   "source": [
    "6. Retrieve all cohorts"
   ]
  },
  {
   "cell_type": "code",
   "execution_count": 8,
   "metadata": {},
   "outputs": [
    {
     "data": {
      "text/plain": [
       "[1, 2]"
      ]
     },
     "execution_count": 8,
     "metadata": {},
     "output_type": "execute_result"
    }
   ],
   "source": [
    "allCohorts = cohort.get_all_cohorts()\n",
    "\n",
    "ids = [data['id'] for data in allCohorts['data']]\n",
    "ids\n",
    "\n",
    "## load into dataframe"
   ]
  },
  {
   "attachments": {},
   "cell_type": "markdown",
   "metadata": {},
   "source": [
    "7. Retrieve all patients from a cohort id"
   ]
  },
  {
   "cell_type": "code",
   "execution_count": 15,
   "metadata": {},
   "outputs": [],
   "source": [
    "cohort_query = Query('patients')\n",
    "cohort_query.set_study('703c5d8a-a1d9-4d42-a314-5b9aad513390')\n",
    "cohort_query.add_filters([Person.Patient()])\n",
    "\n",
    "request = cohort_query.get_dataframe_cohort()"
   ]
  },
  {
   "cell_type": "code",
   "execution_count": 16,
   "metadata": {},
   "outputs": [],
   "source": [
    "patient_dataframe = Result().download_dataframe(request, 'patient.csv', 51)"
   ]
  },
  {
   "attachments": {},
   "cell_type": "markdown",
   "metadata": {},
   "source": [
    "8. Retrieve Condition Occurrence of patients from a cohort"
   ]
  },
  {
   "cell_type": "code",
   "execution_count": 18,
   "metadata": {},
   "outputs": [],
   "source": [
    "cohort_condition_query = Query('cohort_condition_occurrence')\n",
    "cohort_condition_query.set_study('703c5d8a-a1d9-4d42-a314-5b9aad513390')\n",
    "cohort_condition_query.add_filters([Interactions.ConditionOccurrence('condition')])\n",
    "\n",
    "request = cohort_condition_query.get_dataframe_cohort()\n",
    "patient_dataframe = Result().download_dataframe(request, 'patient.csv', 2)"
   ]
  },
  {
   "cell_type": "code",
   "execution_count": 19,
   "metadata": {},
   "outputs": [
    {
     "data": {
      "text/html": [
       "<div>\n",
       "<style scoped>\n",
       "    .dataframe tbody tr th:only-of-type {\n",
       "        vertical-align: middle;\n",
       "    }\n",
       "\n",
       "    .dataframe tbody tr th {\n",
       "        vertical-align: top;\n",
       "    }\n",
       "\n",
       "    .dataframe thead th {\n",
       "        text-align: right;\n",
       "    }\n",
       "</style>\n",
       "<table border=\"1\" class=\"dataframe\">\n",
       "  <thead>\n",
       "    <tr style=\"text-align: right;\">\n",
       "      <th></th>\n",
       "    </tr>\n",
       "  </thead>\n",
       "  <tbody>\n",
       "  </tbody>\n",
       "</table>\n",
       "</div>"
      ],
      "text/plain": [
       "Empty DataFrame\n",
       "Columns: []\n",
       "Index: []"
      ]
     },
     "execution_count": 19,
     "metadata": {},
     "output_type": "execute_result"
    }
   ],
   "source": [
    "patient_dataframe"
   ]
  }
 ],
 "metadata": {
  "kernelspec": {
   "display_name": ".venv",
   "language": "python",
   "name": "python3"
  },
  "language_info": {
   "codemirror_mode": {
    "name": "ipython",
    "version": 3
   },
   "file_extension": ".py",
   "mimetype": "text/x-python",
   "name": "python",
   "nbconvert_exporter": "python",
   "pygments_lexer": "ipython3",
   "version": "3.9.6"
  },
  "orig_nbformat": 4
 },
 "nbformat": 4,
 "nbformat_minor": 2
}
