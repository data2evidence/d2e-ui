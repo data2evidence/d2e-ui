{
  "cells": [
    {
      "cell_type": "code",
      "execution_count": 1,
      "metadata": {},
      "outputs": [],
      "source": [
        "\n",
        "# Path has to be set before importing pyqe\n",
        "import sys, os \n",
        "sys.path.append(os.path.join(sys.path[0],'..', '..'))\n",
        "\n",
        "import json\n",
        "from pyqe import *\n",
        "from pyqe.api.query import Query\n",
        "from pyqe.api.result import Result\n",
        "from pyqe.ql.advanced_time_filter import AdvanceTimeFilter\n",
        "from pyqe.types.enum_types import TargetSelection , OriginSelection\n",
        "from pyqe.ql.interaction import Interactions"
      ]
    },
    {
      "cell_type": "code",
      "execution_count": 4,
      "metadata": {},
      "outputs": [],
      "source": [
        "query_heartcondition = Query('Patients with heart condition')"
      ]
    },
    {
      "cell_type": "code",
      "execution_count": 11,
      "metadata": {},
      "outputs": [
        {
          "name": "stdout",
          "output_type": "stream",
          "text": [
            "Study Name - Study Id\n",
            "(1) ALP TEST STUDY - 703c5d8a-a1d9-4d42-a314-5b9aad513390\n",
            "Assignment Name, Config Name - Config Id\n",
            "(1) DEFAULT-ASSIGNMENT, OMOP_GDM_PA_CONF - 92d7c6f8-3118-4256-ab22-f2f7fd19d4e7\n",
            "(2) PUBLIC-CHART_DEFAULT-ASSIGNMENT, OMOP_GDM_PA_CONF - 92d7c6f8-3118-4256-ab22-f2f7fd19d4e7\n",
            "(3) portal-PA, portal-PA - 0a3ac56d-29b8-4688-86ad-20d6cd8cb2f4\n"
          ]
        }
      ],
      "source": [
        "# set study\n",
        "query_heartcondition.set_study('703c5d8a-a1d9-4d42-a314-5b9aad513390')\n"
      ]
    },
    {
      "cell_type": "code",
      "execution_count": 12,
      "metadata": {},
      "outputs": [],
      "source": [
        "# set filtercard\n",
        "heart_failure_condition_filtercard = Interactions.ConditionOccurrence('Heart failure conditions')\n",
        "some_procedure_occurence_filtercard = Interactions.ProcedureOccurrence('procedure occurence')"
      ]
    },
    {
      "cell_type": "code",
      "execution_count": 13,
      "metadata": {},
      "outputs": [],
      "source": [
        "# get targetInteraction name\n",
        "targetInteraction = some_procedure_occurence_filtercard.get_instance_id()\n",
        "\n",
        "# create advance time filter\n",
        "advanceTimeFilter = AdvanceTimeFilter(targetInteraction, OriginSelection.ENDED, TargetSelection.BEFORE_END ,12)"
      ]
    },
    {
      "cell_type": "code",
      "execution_count": 14,
      "metadata": {},
      "outputs": [],
      "source": [
        "# add advance time filter to filter card\n",
        "heart_failure_condition_filtercard.add_advance_time_filter(advanceTimeFilter)\n",
        "query_heartcondition.add_filters([heart_failure_condition_filtercard])\n",
        "heartcondition_cohort = query_heartcondition.get_cohort()"
      ]
    },
    {
      "cell_type": "code",
      "execution_count": 15,
      "metadata": {},
      "outputs": [],
      "source": [
        "result = Result().get_patient(heartcondition_cohort)\n"
      ]
    },
    {
      "cell_type": "code",
      "execution_count": null,
      "metadata": {},
      "outputs": [
        {
          "name": "stdout",
          "output_type": "stream",
          "text": [
            "18\n"
          ]
        }
      ],
      "source": [
        "print(len(result['data']))"
      ]
    }
  ],
  "metadata": {
    "kernelspec": {
      "display_name": "Python 3.9.15 ('pyqeenv': venv)",
      "language": "python",
      "name": "python3"
    },
    "language_info": {
      "codemirror_mode": {
        "name": "ipython",
        "version": 3
      },
      "file_extension": ".py",
      "mimetype": "text/x-python",
      "name": "python",
      "nbconvert_exporter": "python",
      "pygments_lexer": "ipython3",
      "version": "3.9.6"
    },
    "orig_nbformat": 4,
    "vscode": {
      "interpreter": {
        "hash": "0cbd3df2f8d42fe7c3628ff2c211d017ccbf0b769c116dde5fc0be94617af007"
      }
    }
  },
  "nbformat": 4,
  "nbformat_minor": 2
}
