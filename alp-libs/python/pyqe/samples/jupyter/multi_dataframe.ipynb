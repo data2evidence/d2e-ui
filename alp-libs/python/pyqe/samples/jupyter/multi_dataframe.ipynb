{
 "cells": [
  {
   "cell_type": "markdown",
   "metadata": {},
   "source": [
    "## PyQE Download Dataframe Query Demo\n",
    "\n",
    "1) Setup the imports"
   ]
  },
  {
   "cell_type": "code",
   "execution_count": 2,
   "metadata": {},
   "outputs": [],
   "source": [
    "# Path has to be set before importing pyqe\n",
    "import sys, os \n",
    "sys.path.append(os.path.join(sys.path[0],'..', '..'))\n",
    " \n",
    "import json\n",
    "from pyqe import *"
   ]
  },
  {
   "cell_type": "markdown",
   "metadata": {},
   "source": [
    "2) Define authenticated query with female filter and having at least 1 vising"
   ]
  },
  {
   "cell_type": "code",
   "execution_count": 3,
   "metadata": {},
   "outputs": [],
   "source": [
    "female_query = Query('Female_Patients_Dataframe_Query')\n",
    "female_query.set_study(\"703c5d8a-a1d9-4d42-a314-5b9aad513390\")"
   ]
  },
  {
   "cell_type": "code",
   "execution_count": 4,
   "metadata": {},
   "outputs": [],
   "source": [
    "female_patient = Person.Patient()\n",
    "female_constraint = Constraint().add(Expression(ComparisonOperator.EQUAL, 'FEMALE'))\n",
    "female_patient.add_gender([female_constraint])\n",
    "\n",
    "pid_constraint = Constraint().add(Expression(ComparisonOperator.EQUAL, '435'))\n",
    "female_patient.add_patient_id([pid_constraint])\n",
    "\n",
    "female_query.add_filters([female_patient])\n",
    "\n",
    "female_query.add_filters([Interactions.ConditionOccurrence('Type 2 diabetes mellitus')])\n",
    "\n",
    "no_columns = female_query.get_entities_dataframe_cohort()\n",
    "specific_columns_visit = female_query.get_entities_dataframe_cohort(['patient.interactions.conditionoccurrence.attributes.conditionname'])\n",
    "specific_columns_patient = female_query.get_entities_dataframe_cohort(['patient.attributes.dateOfBirth', 'patient.attributes.Gender'])\n",
    "one_column_patient_one_column_visit = female_query.get_entities_dataframe_cohort(['patient.attributes.Gender', 'patient.interactions.conditionoccurrence.attributes.conditionname'])\n",
    "obs_not_in_filtercard = female_query.get_entities_dataframe_cohort(['patient.interactions.observation.attributes.obstype', 'patient.interactions.observation.attributes.obsname'])"
   ]
  },
  {
   "cell_type": "markdown",
   "metadata": {},
   "source": [
    "3) Download dataframe with request"
   ]
  },
  {
   "cell_type": "code",
   "execution_count": 9,
   "metadata": {},
   "outputs": [
    {
     "name": "stdout",
     "output_type": "stream",
     "text": [
      "all entities for no_columns\n",
      "\n",
      "Patient: 0 rows\n",
      "\n"
     ]
    },
    {
     "data": {
      "text/html": [
       "<table border=\"1\" class=\"dataframe\">\n",
       "  <thead>\n",
       "    <tr style=\"text-align: right;\">\n",
       "      <th></th>\n",
       "      <th>Error occurred while trying to proxy: localhost:41100/analytics-svc/api/services/datastream/patient?mriquery=eJy9lt9P2zAQx%2F%2BVKs%2Bkan6Utkh7KLSbkDaYAPEy7cG1L62lxM7sC6JC%2Fd93TpqBUE0NEntL4vPHd19%2Fz85TxPVGG1xAIZVEqVV0NniKODPCdk9aISik51%2BvXnBbAz1FX2WJYC5oRnQyiKRiHOWDGylYaYE%2BKVa1gefMSj5YMGQukFiFXP9kuHFjNUPpyC3BIlMcrppqBYYGRy8%2BXi5eRTNEI1cNwoF0%2BwznfYx33eEzZvgNlKB1fYseDiWqRcOkwlDZlo%2B1AWud4jRf12AYaldu9MV9eGBl08m7%2FDH%2Fvox2v%2BljP%2Fdc6xKYuiAuLdlloOu21KtFaOj1TbTbnQw%2BKlMtRZBG%2B7jPEyjPxp%2BlzjuozoriwSlxJyvoeoIGVVOW71jxxGfh4Ca7owmDdCAkWwHJP6igLCU21r%2BntCUkLXe9b4cUItpjQHPeGANUz8GeTLxbfww3TN5u2%2F%2Bu%2BfsW7DRsD7F94vR6KVzILBUTflpM4yxJpnGejk9jtkrTuEiLSSGSmchh8rwN92Bsd9xG866Ux1aMVoB1QzsNjoqmcduri8IC7g9DrsumUvZf77zdqPN1u4XaiFadyL1Y%2BONYvd%2FeBsAj6apY2TXyAU4SxiG37I14gJGGMS50o3DrYWRhjFvKwydJHoZY4kZJLr2ZjAOV7TEUyaFGroUvsdMwYskszhukKx3Ewl%2FmJIz2fL8dYEzDGOuWcbzA2QdwfkcGWvuGcV8%2BSaCr6ayD49Ulgf5%2BQfMXF%2Bjz2k8ItHnNXbv5IIEmr%2Bgw3VwX59JQiAcV6O4tMHOEFOhsQb1xhBTo7460AOYnhVrb6Kamy9RzQI7am6qUlcT%2B3t%2B1oyVwBHGLjdguFdJpct%2F%2FGk1GGR%2BLKYtZImZxLvI0ZlmSx%2BPVjDExTrJsNop2fwF5mOVC&amp;studyId=Patient.csv</th>\n",
       "    </tr>\n",
       "  </thead>\n",
       "  <tbody>\n",
       "  </tbody>\n",
       "</table>"
      ],
      "text/plain": [
       "<IPython.core.display.HTML object>"
      ]
     },
     "metadata": {},
     "output_type": "display_data"
    },
    {
     "name": "stdout",
     "output_type": "stream",
     "text": [
      "ConditionOccurrence: 0 rows\n",
      "\n"
     ]
    },
    {
     "data": {
      "text/html": [
       "<table border=\"1\" class=\"dataframe\">\n",
       "  <thead>\n",
       "    <tr style=\"text-align: right;\">\n",
       "      <th></th>\n",
       "      <th>Error occurred while trying to proxy: localhost:41100/analytics-svc/api/services/datastream/patient?mriquery=eJy9lk1v2zAMhv%2BK4XMdxF9JPGCHtMmGAls3bEUvww6KRLcCbMmT6KBBkf8%2BSY7XorCbpLB30wfFR3wp0n7yqXyQCleQc8GRS%2BF%2F8J58ShTTzUgKBIFm%2FOvVBHcVmJH%2FiRcI6sqc8C88nwtCkW%2FtTk4KDWZJkNIZXhLNqbciSKyh8ZXz%2B%2B8EH%2BxeRZBbz86DRiIo3NTlBpTZnL5YvF69siaIim9qhI7rtjdctja93Mmzm8lnEMxw%2B6DdpsarRkW4wFNlWz9WCrS2ipvzsgJFUNpw%2FY92YUuKupF3%2FXX5Ze3vf5vF9uyllAUQcWX8GmRzA1m5UG9Wp5p%2B%2B%2BHv9xfee2WqODtJo4PdeAIlcTqWOmd4tU%2BRba0St7yEpibMpqiL4gziRd8TPrnIbs0BL%2FIYJxsw8nslFAXHWvfn1KTESEtt7euJMWGuDUhKa6XAxNNZk2Fv6o%2B5m4Rvl%2B1%2F1%2Fw8YKOha2KHi5vpNbMmWcTmdJYvgjgMF0ESpbOAbKIoyKN8nrMwYwnMn9NwB0o37dZfNqE8OjGcAPe1yTRYr6hqm16Z5xrw0AypLOpS6H%2B1846kvqzQju2mZqViTlDfTjT8sfj2iQ7FNAMKFfYCw5GAVs1uYjQg8QCjkkEPLR46PtcIulnJ0CxXNt2sdAzWcTlnQ2O1rBXto83HoR0PczE4GMnhI9FBy8ahHQ8zHKrdVP39ZagGY2JSyAj2xjJUXzH%2FnG9hhmooW645nvBFCBP3BS14ybH9H9m73QIoAvuJNdutBXLc3bW%2FbPNpTFO2IAEJWRYkLIkCEodJkG4yQlgaxnE29fd%2FAY1gSXA%3D&amp;studyId=ConditionOccurrence.csv</th>\n",
       "    </tr>\n",
       "  </thead>\n",
       "  <tbody>\n",
       "  </tbody>\n",
       "</table>"
      ],
      "text/plain": [
       "<IPython.core.display.HTML object>"
      ]
     },
     "metadata": {},
     "output_type": "display_data"
    },
    {
     "name": "stdout",
     "output_type": "stream",
     "text": [
      "all entities for specific_columns_visit\n",
      "\n",
      "Patient: 0 rows\n",
      "\n"
     ]
    },
    {
     "data": {
      "text/html": [
       "<table border=\"1\" class=\"dataframe\">\n",
       "  <thead>\n",
       "    <tr style=\"text-align: right;\">\n",
       "      <th></th>\n",
       "      <th>Error occurred while trying to proxy: localhost:41100/analytics-svc/api/services/datastream/patient?mriquery=eJy9lt9P2zAQx%2F%2BVKs%2Bkan6Utkh7KLSbkDaYAPEy7cG1L62lxM7sC6JC%2Fd93TpqBUE0NEntL4vPHd19%2Fz85TxPVGG1xAIZVEqVV0NniKODPCdk9aISik51%2BvXnBbAz1FX2WJYC5oRnQyiKRiHOWDGylYaYE%2BKVa1gefMSj5YMGQukFiFXP9kuHFjNUPpyC3BIlMcrppqBYYGRy8%2BXi5eRTNEI1cNwoF0%2BwznfYx33eEzZvgNlKB1fYseDiWqRcOkwlDZlo%2B1AWud4jRf12AYaldu9MV9eGBl08m7%2FDH%2Fvox2v%2BljP%2Fdc6xKYuiAuLdlloOu21KtFaOj1TbTbnQw%2BKlMtRZBG%2B7jPEyjPxp%2BlzjuozoriwSlxJyvoeoIGVVOW71jxxGfh4Ca7owmDdCAkWwHJP6igLCU21r%2BntCUkLXe9b4cUItpjQHPeGANUz8GeTLxbfww3TN5u2%2F%2Bu%2BfsW7DRsD7F94vR6KVzILBUTflpM4yxJpnGejk9jtkrTuEiLSSGSmchh8rwN92Bsd9xG866Ux1aMVoB1QzsNjoqmcduri8IC7g9DrsumUvZf77zdqPN1u4XaiFadyL1Y%2BONYvd%2FeBsAj6apY2TXyAU4SxiG37I14gJGGMS50o3DrYWRhjFvKwydJHoZY4kZJLr2ZjAOV7TEUyaFGroUvsdMwYskszhukKx3Ewl%2FmJIz2fL8dYEzDGOuWcbzA2QdwfkcGWvuGcV8%2BSaCr6ayD49Ulgf5%2BQfMXF%2Bjz2k8ItHnNXbv5IIEmr%2Bgw3VwX59JQiAcV6O4tMHOEFOhsQb1xhBTo7460AOYnhVrb6Kamy9RzQI7am6qUlcT%2B3t%2B1oyVwBHGLjdguFdJpct%2F%2FGk1GGR%2BLKYtZImZxLvI0ZlmSx%2BPVjDExTrJsNop2fwF5mOVC&amp;studyId=Patient.csv</th>\n",
       "    </tr>\n",
       "  </thead>\n",
       "  <tbody>\n",
       "  </tbody>\n",
       "</table>"
      ],
      "text/plain": [
       "<IPython.core.display.HTML object>"
      ]
     },
     "metadata": {},
     "output_type": "display_data"
    },
    {
     "name": "stdout",
     "output_type": "stream",
     "text": [
      "ConditionOccurrence: 0 rows\n",
      "\n"
     ]
    },
    {
     "data": {
      "text/html": [
       "<table border=\"1\" class=\"dataframe\">\n",
       "  <thead>\n",
       "    <tr style=\"text-align: right;\">\n",
       "      <th></th>\n",
       "      <th>Error occurred while trying to proxy: localhost:41100/analytics-svc/api/services/datastream/patient?mriquery=eJy9VE1rGzEQ%2FSuLzl7j%2FXBsF3pwYrcE2rQ0IZfSw6w0mwi00laaNTHB%2F72S1k5CsFs7kN6kmTdvpDcfj4ybe2NpgbXUkqTR7EPyyDhY4fqT0YSa%2FPnnqwutW%2FQn9kkqQnvhI9ggYVIDJ7kKnhqUQ2%2FS0ETgOTjJkwUQBKDnquXdd6D74GuBZGCODI5Ac7zqmgqtd45eGC8Xr9BAZGXVEe557u6F8x3mYN7hM83wM2rh8x5Kuh%2FqWR1ZkJqOlW350Fp0Liju402LFsiE77KPwbAC1fXyLr%2FOvyzZ5pc37mLPjVEI%2BsLz%2BpT9C0wbv3q1OBb67QfbbAbJW2VqpThKoy3u%2FQQqi%2FF7qXMCa2hFsQpK3MgG%2B5nwTt0pdULGwaEWPnrIbnxAkidCQoVe%2FqRBpSR17nBNfUm8tDzMvht6iIhrwHDeWYv%2BP3tnMjtY%2Bn%2FRDbO%2Fj%2B1%2F1%2Fy0hL2GcYltH%2B6vlyJAZrmY8LN6mhZZNk3LfHyWQpXnaZ3Xk1pkM1Hi5LkMt2hdv27ZvP%2FKQxQjCnDX%2BUpjYCXbhfKaunZI22XIjeoa7Z5m5w1FfTmhT%2B7YQyGZFVFIFi4Of4e0USYlG0m7pttEp0JOKK6pE%2BulJknr291cTkYFH4sppJCJWVqKMk%2BhyMp0XM0AxDgritmIbf4A3wsdWQ%3D%3D&amp;studyId=ConditionOccurrence.csv</th>\n",
       "    </tr>\n",
       "  </thead>\n",
       "  <tbody>\n",
       "  </tbody>\n",
       "</table>"
      ],
      "text/plain": [
       "<IPython.core.display.HTML object>"
      ]
     },
     "metadata": {},
     "output_type": "display_data"
    },
    {
     "name": "stdout",
     "output_type": "stream",
     "text": [
      "all entities for specific_columns_patient\n",
      "\n",
      "Patient: 0 rows\n",
      "\n"
     ]
    },
    {
     "data": {
      "text/html": [
       "<table border=\"1\" class=\"dataframe\">\n",
       "  <thead>\n",
       "    <tr style=\"text-align: right;\">\n",
       "      <th></th>\n",
       "      <th>Error occurred while trying to proxy: localhost:41100/analytics-svc/api/services/datastream/patient?mriquery=eJy9VE1v2zAM%2FSuGznEQf6RJBuyQNNlQYGuHrehl2IGR6FaALXkSHTQo8t9H2fE6FEmXDOhukvj0SD5%2BPAlpH6yjJRbaaNLWiHfRk5DglO9O1hAa4vP3Fxfa1sgn8UGXhO6Sf4hBJLQBSXoTLAWUHvnJQNUCF%2BC1jJZAEIDMVej7L0APwVYD6cDcMngCI%2FG6qdbo2Dj64%2FFq%2BQINRE6vG8ID4fYRznvMUb%2FDZ5rhRzSK%2FR5zehjKrJ4caEOnyrZ6rB16HxTn%2F7ZGB2RDuuJ9eNhA2XTyrj7PP63E7gc%2F9n8X1pYI5pJ52WUXga3bVK%2BXp0JvvordbhD9q0y1VidptMe9nUB5Nn4rdc5gDa2oNkGJW11hNxNsNE1ZnuFxcKyFTx6yW%2F4QpZHSsEaWP6qwLDU1%2FnhNuSQsrQyz74cMUe0asFI2ziHnc3Amk6Ol%2FxvdMHl9bP%2B75uc57DRsl9g%2BcL5eqQCZpWoiL4ppnCXJNM7T8UUM6zSNi7SYFCqZqRwnz2W4Q%2Be7dSvmXSqPrRitAPcNVxoDK7kmlNcWhUfaL0Npy6Yy%2FvfsvD6oCghvioV2jAhMTrUqiXDx%2BDNw9n136mI8wJG0Opa60tR35a41ligJ1Tdq1HZlSNP2rh%2FcySiTYzWFGBI1i3OVpzFkSR6P1zMANU6ybDYSu19SFiSi&amp;studyId=Patient.csv</th>\n",
       "    </tr>\n",
       "  </thead>\n",
       "  <tbody>\n",
       "  </tbody>\n",
       "</table>"
      ],
      "text/plain": [
       "<IPython.core.display.HTML object>"
      ]
     },
     "metadata": {},
     "output_type": "display_data"
    },
    {
     "name": "stdout",
     "output_type": "stream",
     "text": [
      "ConditionOccurrence: 0 rows\n",
      "\n"
     ]
    },
    {
     "data": {
      "text/html": [
       "<table border=\"1\" class=\"dataframe\">\n",
       "  <thead>\n",
       "    <tr style=\"text-align: right;\">\n",
       "      <th></th>\n",
       "      <th>Error occurred while trying to proxy: localhost:41100/analytics-svc/api/services/datastream/patient?mriquery=eJy9lk1v2zAMhv%2BK4XMdxF9JPGCHtMmGAls3bEUvww6KRLcCbMmT6KBBkf8%2BSY7XorCbpLB30wfFR3wp0n7yqXyQCleQc8GRS%2BF%2F8J58ShTTzUgKBIFm%2FOvVBHcVmJH%2FiRcI6sqc8C88nwtCkW%2FtTk4KDWZJkNIZXhLNqbciSKyh8ZXz%2B%2B8EH%2BxeRZBbz86DRiIo3NTlBpTZnL5YvF69siaIim9qhI7rtjdctja93Mmzm8lnEMxw%2B6DdpsarRkW4wFNlWz9WCrS2ipvzsgJFUNpw%2FY92YUuKupF3%2FXX5Ze3vf5vF9uyllAUQcWX8GmRzA1m5UG9Wp5p%2B%2B%2BHv9xfee2WqODtJo4PdeAIlcTqWOmd4tU%2BRba0St7yEpibMpqiL4gziRd8TPrnIbs0BL%2FIYJxsw8nslFAXHWvfn1KTESEtt7euJMWGuDUhKa6XAxNNZk2Fv6o%2B5m4Rvl%2B1%2F1%2Fw8YKOha2KHi5vpNbMmWcTmdJYvgjgMF0ESpbOAbKIoyKN8nrMwYwnMn9NwB0o37dZfNqE8OjGcAPe1yTRYr6hqm16Z5xrw0AypLOpS6H%2B1846kvqzQju2mZqViTlDfTjT8sfj2iQ7FNAMKFfYCw5GAVs1uYjQg8QCjkkEPLR46PtcIulnJ0CxXNt2sdAzWcTlnQ2O1rBXto83HoR0PczE4GMnhI9FBy8ahHQ8zHKrdVP39ZagGY2JSyAj2xjJUXzH%2FnG9hhmooW645nvBFCBP3BS14ybH9H9m73QIoAvuJNdutBXLc3bW%2FbPNpTFO2IAEJWRYkLIkCEodJkG4yQlgaxnE29fd%2FAY1gSXA%3D&amp;studyId=ConditionOccurrence.csv</th>\n",
       "    </tr>\n",
       "  </thead>\n",
       "  <tbody>\n",
       "  </tbody>\n",
       "</table>"
      ],
      "text/plain": [
       "<IPython.core.display.HTML object>"
      ]
     },
     "metadata": {},
     "output_type": "display_data"
    },
    {
     "name": "stdout",
     "output_type": "stream",
     "text": [
      "patient entity merged with other entities for one_column_patient_one_column_visit\n",
      "\n"
     ]
    },
    {
     "ename": "KeyError",
     "evalue": "'pid'",
     "output_type": "error",
     "traceback": [
      "\u001b[0;31m---------------------------------------------------------------------------\u001b[0m",
      "\u001b[0;31mKeyError\u001b[0m                                  Traceback (most recent call last)",
      "\u001b[0;32m/var/folders/f6/xclbw5n54f10m3zcybyg567r0000gp/T/ipykernel_74534/3734817203.py\u001b[0m in \u001b[0;36m?\u001b[0;34m()\u001b[0m\n\u001b[0;32m---> 23\u001b[0;31m \u001b[0;32mfrom\u001b[0m \u001b[0mIPython\u001b[0m\u001b[0;34m.\u001b[0m\u001b[0mdisplay\u001b[0m \u001b[0;32mimport\u001b[0m \u001b[0mdisplay\u001b[0m\u001b[0;34m,\u001b[0m \u001b[0mHTML\u001b[0m\u001b[0;34m\u001b[0m\u001b[0;34m\u001b[0m\u001b[0m\n\u001b[0m\u001b[1;32m     24\u001b[0m \u001b[0;34m\u001b[0m\u001b[0m\n\u001b[1;32m     25\u001b[0m \u001b[0;34m\u001b[0m\u001b[0m\n\u001b[1;32m     26\u001b[0m \u001b[0;32mdef\u001b[0m \u001b[0mprinter\u001b[0m\u001b[0;34m(\u001b[0m\u001b[0mtitle\u001b[0m\u001b[0;34m:\u001b[0m \u001b[0mstr\u001b[0m \u001b[0;34m=\u001b[0m \u001b[0;34m\"\"\u001b[0m\u001b[0;34m,\u001b[0m \u001b[0md\u001b[0m\u001b[0;34m:\u001b[0m \u001b[0mdict\u001b[0m \u001b[0;34m=\u001b[0m \u001b[0;34m{\u001b[0m\u001b[0;34m}\u001b[0m\u001b[0;34m)\u001b[0m\u001b[0;34m:\u001b[0m\u001b[0;34m\u001b[0m\u001b[0;34m\u001b[0m\u001b[0m\n",
      "\u001b[0;32m/var/folders/f6/xclbw5n54f10m3zcybyg567r0000gp/T/ipykernel_74534/3734817203.py\u001b[0m in \u001b[0;36m?\u001b[0;34m(title, d)\u001b[0m\n\u001b[1;32m      4\u001b[0m \u001b[0;32mdef\u001b[0m \u001b[0mprinter\u001b[0m\u001b[0;34m(\u001b[0m\u001b[0mtitle\u001b[0m\u001b[0;34m:\u001b[0m \u001b[0mstr\u001b[0m \u001b[0;34m=\u001b[0m \u001b[0;34m\"\"\u001b[0m\u001b[0;34m,\u001b[0m \u001b[0md\u001b[0m\u001b[0;34m:\u001b[0m \u001b[0mdict\u001b[0m \u001b[0;34m=\u001b[0m \u001b[0;34m{\u001b[0m\u001b[0;34m}\u001b[0m\u001b[0;34m)\u001b[0m\u001b[0;34m:\u001b[0m\u001b[0;34m\u001b[0m\u001b[0;34m\u001b[0m\u001b[0m\n\u001b[1;32m      5\u001b[0m     \u001b[0mprint\u001b[0m\u001b[0;34m(\u001b[0m\u001b[0;34mf\"patient entity merged with other entities for {title}\\n\"\u001b[0m\u001b[0;34m)\u001b[0m\u001b[0;34m\u001b[0m\u001b[0;34m\u001b[0m\u001b[0m\n\u001b[0;32m----> 6\u001b[0;31m     \u001b[0mr\u001b[0m \u001b[0;34m=\u001b[0m \u001b[0mResult\u001b[0m\u001b[0;34m(\u001b[0m\u001b[0;34m)\u001b[0m\u001b[0;34m.\u001b[0m\u001b[0mdownload_patient_dataframe\u001b[0m\u001b[0;34m(\u001b[0m\u001b[0md\u001b[0m\u001b[0;34m,\u001b[0m \u001b[0;34m\"703c5d8a-a1d9-4d42-a314-5b9aad513390\"\u001b[0m\u001b[0;34m)\u001b[0m\u001b[0;34m\u001b[0m\u001b[0;34m\u001b[0m\u001b[0m\n\u001b[0m\u001b[1;32m      7\u001b[0m     \u001b[0mdisplay\u001b[0m\u001b[0;34m(\u001b[0m\u001b[0mHTML\u001b[0m\u001b[0;34m(\u001b[0m\u001b[0mr\u001b[0m\u001b[0;34m[\u001b[0m\u001b[0;34m:\u001b[0m\u001b[0;36m10\u001b[0m\u001b[0;34m]\u001b[0m\u001b[0;34m.\u001b[0m\u001b[0mto_html\u001b[0m\u001b[0;34m(\u001b[0m\u001b[0;34m)\u001b[0m\u001b[0;34m)\u001b[0m\u001b[0;34m)\u001b[0m\u001b[0;34m\u001b[0m\u001b[0;34m\u001b[0m\u001b[0m\n",
      "\u001b[0;32m~/Documents/Data4Life/alp-ui/alp-libs/python/pyqe/samples/jupyter/../../pyqe/shared/decorator.py\u001b[0m in \u001b[0;36m?\u001b[0;34m(*args, **kwargs)\u001b[0m\n\u001b[1;32m     34\u001b[0m     \u001b[0;34m@\u001b[0m\u001b[0mfunctools\u001b[0m\u001b[0;34m.\u001b[0m\u001b[0mwraps\u001b[0m\u001b[0;34m(\u001b[0m\u001b[0mfunc\u001b[0m\u001b[0;34m)\u001b[0m\u001b[0;34m\u001b[0m\u001b[0;34m\u001b[0m\u001b[0m\n\u001b[1;32m     35\u001b[0m     \u001b[0;32mdef\u001b[0m \u001b[0mdecorated\u001b[0m\u001b[0;34m(\u001b[0m\u001b[0;34m*\u001b[0m\u001b[0margs\u001b[0m\u001b[0;34m,\u001b[0m \u001b[0;34m**\u001b[0m\u001b[0mkwargs\u001b[0m\u001b[0;34m)\u001b[0m\u001b[0;34m:\u001b[0m\u001b[0;34m\u001b[0m\u001b[0;34m\u001b[0m\u001b[0m\n\u001b[1;32m     36\u001b[0m         \u001b[0;31m# only for debug, otherwise skip below\u001b[0m\u001b[0;34m\u001b[0m\u001b[0;34m\u001b[0m\u001b[0m\n\u001b[1;32m     37\u001b[0m         \u001b[0;32mif\u001b[0m \u001b[0;32mnot\u001b[0m \u001b[0mlogger\u001b[0m\u001b[0;34m.\u001b[0m\u001b[0misEnabledFor\u001b[0m\u001b[0;34m(\u001b[0m\u001b[0mlogging\u001b[0m\u001b[0;34m.\u001b[0m\u001b[0mDEBUG\u001b[0m\u001b[0;34m)\u001b[0m\u001b[0;34m:\u001b[0m\u001b[0;34m\u001b[0m\u001b[0;34m\u001b[0m\u001b[0m\n\u001b[0;32m---> 38\u001b[0;31m             \u001b[0;32mreturn\u001b[0m \u001b[0mfunc\u001b[0m\u001b[0;34m(\u001b[0m\u001b[0;34m*\u001b[0m\u001b[0margs\u001b[0m\u001b[0;34m,\u001b[0m \u001b[0;34m**\u001b[0m\u001b[0mkwargs\u001b[0m\u001b[0;34m)\u001b[0m\u001b[0;34m\u001b[0m\u001b[0;34m\u001b[0m\u001b[0m\n\u001b[0m\u001b[1;32m     39\u001b[0m \u001b[0;34m\u001b[0m\u001b[0m\n\u001b[1;32m     40\u001b[0m         \u001b[0mlog_id\u001b[0m \u001b[0;34m=\u001b[0m \u001b[0muuid\u001b[0m\u001b[0;34m.\u001b[0m\u001b[0muuid4\u001b[0m\u001b[0;34m(\u001b[0m\u001b[0;34m)\u001b[0m\u001b[0;34m\u001b[0m\u001b[0;34m\u001b[0m\u001b[0m\n\u001b[1;32m     41\u001b[0m \u001b[0;34m\u001b[0m\u001b[0m\n",
      "\u001b[0;32m~/Documents/Data4Life/alp-ui/alp-libs/python/pyqe/samples/jupyter/../../pyqe/api/result.py\u001b[0m in \u001b[0;36m?\u001b[0;34m(self, entity_cohort, studyId)\u001b[0m\n\u001b[1;32m    127\u001b[0m         \u001b[0;32mfor\u001b[0m \u001b[0mentity_name\u001b[0m \u001b[0;32min\u001b[0m \u001b[0mentity_cohort\u001b[0m\u001b[0;34m.\u001b[0m\u001b[0mkeys\u001b[0m\u001b[0;34m(\u001b[0m\u001b[0;34m)\u001b[0m\u001b[0;34m:\u001b[0m\u001b[0;34m\u001b[0m\u001b[0;34m\u001b[0m\u001b[0m\n\u001b[1;32m    128\u001b[0m             \u001b[0;32mif\u001b[0m \u001b[0mentity_name\u001b[0m \u001b[0;34m!=\u001b[0m \u001b[0;34m\"Patient\"\u001b[0m\u001b[0;34m:\u001b[0m\u001b[0;34m\u001b[0m\u001b[0;34m\u001b[0m\u001b[0m\n\u001b[1;32m    129\u001b[0m                 abc = self.download_dataframe(\n\u001b[1;32m    130\u001b[0m                     entity_cohort[entity_name], studyId, f\"{entity_name}.csv\")\n\u001b[0;32m--> 131\u001b[0;31m                 result = patient_df.join(abc,\n\u001b[0m\u001b[1;32m    132\u001b[0m                     \u001b[0mlsuffix\u001b[0m\u001b[0;34m=\u001b[0m\u001b[0;34m\"_patient\"\u001b[0m\u001b[0;34m,\u001b[0m\u001b[0;34m\u001b[0m\u001b[0;34m\u001b[0m\u001b[0m\n\u001b[1;32m    133\u001b[0m                     \u001b[0mrsuffix\u001b[0m\u001b[0;34m=\u001b[0m\u001b[0;34mf\"_{entity_name}\"\u001b[0m\u001b[0;34m,\u001b[0m\u001b[0;34m\u001b[0m\u001b[0;34m\u001b[0m\u001b[0m\n\u001b[1;32m    134\u001b[0m                     \u001b[0mhow\u001b[0m\u001b[0;34m=\u001b[0m\u001b[0;34m\"left\"\u001b[0m\u001b[0;34m,\u001b[0m\u001b[0;34m\u001b[0m\u001b[0;34m\u001b[0m\u001b[0m\n",
      "\u001b[0;32m~/Documents/Data4Life/alp-ui/.venv/lib/python3.9/site-packages/pandas/core/frame.py\u001b[0m in \u001b[0;36m?\u001b[0;34m(self, other, on, how, lsuffix, rsuffix, sort)\u001b[0m\n\u001b[1;32m   9250\u001b[0m         \u001b[0;36m3\u001b[0m  \u001b[0mK3\u001b[0m  \u001b[0mA3\u001b[0m  \u001b[0mNaN\u001b[0m\u001b[0;34m\u001b[0m\u001b[0;34m\u001b[0m\u001b[0m\n\u001b[1;32m   9251\u001b[0m         \u001b[0;36m4\u001b[0m  \u001b[0mK0\u001b[0m  \u001b[0mA4\u001b[0m   \u001b[0mB0\u001b[0m\u001b[0;34m\u001b[0m\u001b[0;34m\u001b[0m\u001b[0m\n\u001b[1;32m   9252\u001b[0m         \u001b[0;36m5\u001b[0m  \u001b[0mK1\u001b[0m  \u001b[0mA5\u001b[0m   \u001b[0mB1\u001b[0m\u001b[0;34m\u001b[0m\u001b[0;34m\u001b[0m\u001b[0m\n\u001b[1;32m   9253\u001b[0m         \"\"\"\n\u001b[0;32m-> 9254\u001b[0;31m         return self._join_compat(\n\u001b[0m\u001b[1;32m   9255\u001b[0m             \u001b[0mother\u001b[0m\u001b[0;34m,\u001b[0m \u001b[0mon\u001b[0m\u001b[0;34m=\u001b[0m\u001b[0mon\u001b[0m\u001b[0;34m,\u001b[0m \u001b[0mhow\u001b[0m\u001b[0;34m=\u001b[0m\u001b[0mhow\u001b[0m\u001b[0;34m,\u001b[0m \u001b[0mlsuffix\u001b[0m\u001b[0;34m=\u001b[0m\u001b[0mlsuffix\u001b[0m\u001b[0;34m,\u001b[0m \u001b[0mrsuffix\u001b[0m\u001b[0;34m=\u001b[0m\u001b[0mrsuffix\u001b[0m\u001b[0;34m,\u001b[0m \u001b[0msort\u001b[0m\u001b[0;34m=\u001b[0m\u001b[0msort\u001b[0m\u001b[0;34m\u001b[0m\u001b[0;34m\u001b[0m\u001b[0m\n\u001b[1;32m   9256\u001b[0m         )\n",
      "\u001b[0;32m~/Documents/Data4Life/alp-ui/.venv/lib/python3.9/site-packages/pandas/core/frame.py\u001b[0m in \u001b[0;36m?\u001b[0;34m(self, other, on, how, lsuffix, rsuffix, sort)\u001b[0m\n\u001b[1;32m   9281\u001b[0m                     \u001b[0mon\u001b[0m\u001b[0;34m=\u001b[0m\u001b[0mon\u001b[0m\u001b[0;34m,\u001b[0m\u001b[0;34m\u001b[0m\u001b[0;34m\u001b[0m\u001b[0m\n\u001b[1;32m   9282\u001b[0m                     \u001b[0msuffixes\u001b[0m\u001b[0;34m=\u001b[0m\u001b[0;34m(\u001b[0m\u001b[0mlsuffix\u001b[0m\u001b[0;34m,\u001b[0m \u001b[0mrsuffix\u001b[0m\u001b[0;34m)\u001b[0m\u001b[0;34m,\u001b[0m\u001b[0;34m\u001b[0m\u001b[0;34m\u001b[0m\u001b[0m\n\u001b[1;32m   9283\u001b[0m                     \u001b[0msort\u001b[0m\u001b[0;34m=\u001b[0m\u001b[0msort\u001b[0m\u001b[0;34m,\u001b[0m\u001b[0;34m\u001b[0m\u001b[0;34m\u001b[0m\u001b[0m\n\u001b[1;32m   9284\u001b[0m                 )\n\u001b[0;32m-> 9285\u001b[0;31m             return merge(\n\u001b[0m\u001b[1;32m   9286\u001b[0m                 \u001b[0mself\u001b[0m\u001b[0;34m,\u001b[0m\u001b[0;34m\u001b[0m\u001b[0;34m\u001b[0m\u001b[0m\n\u001b[1;32m   9287\u001b[0m                 \u001b[0mother\u001b[0m\u001b[0;34m,\u001b[0m\u001b[0;34m\u001b[0m\u001b[0;34m\u001b[0m\u001b[0m\n\u001b[1;32m   9288\u001b[0m                 \u001b[0mleft_on\u001b[0m\u001b[0;34m=\u001b[0m\u001b[0mon\u001b[0m\u001b[0;34m,\u001b[0m\u001b[0;34m\u001b[0m\u001b[0;34m\u001b[0m\u001b[0m\n",
      "\u001b[0;32m~/Documents/Data4Life/alp-ui/.venv/lib/python3.9/site-packages/pandas/core/reshape/merge.py\u001b[0m in \u001b[0;36m?\u001b[0;34m(left, right, how, on, left_on, right_on, left_index, right_index, sort, suffixes, copy, indicator, validate)\u001b[0m\n\u001b[1;32m    103\u001b[0m     \u001b[0mcopy\u001b[0m\u001b[0;34m:\u001b[0m \u001b[0mbool\u001b[0m \u001b[0;34m=\u001b[0m \u001b[0;32mTrue\u001b[0m\u001b[0;34m,\u001b[0m\u001b[0;34m\u001b[0m\u001b[0;34m\u001b[0m\u001b[0m\n\u001b[1;32m    104\u001b[0m     \u001b[0mindicator\u001b[0m\u001b[0;34m:\u001b[0m \u001b[0mbool\u001b[0m \u001b[0;34m=\u001b[0m \u001b[0;32mFalse\u001b[0m\u001b[0;34m,\u001b[0m\u001b[0;34m\u001b[0m\u001b[0;34m\u001b[0m\u001b[0m\n\u001b[1;32m    105\u001b[0m     \u001b[0mvalidate\u001b[0m\u001b[0;34m:\u001b[0m \u001b[0mstr\u001b[0m \u001b[0;34m|\u001b[0m \u001b[0;32mNone\u001b[0m \u001b[0;34m=\u001b[0m \u001b[0;32mNone\u001b[0m\u001b[0;34m,\u001b[0m\u001b[0;34m\u001b[0m\u001b[0;34m\u001b[0m\u001b[0m\n\u001b[1;32m    106\u001b[0m ) -> DataFrame:\n\u001b[0;32m--> 107\u001b[0;31m     op = _MergeOperation(\n\u001b[0m\u001b[1;32m    108\u001b[0m         \u001b[0mleft\u001b[0m\u001b[0;34m,\u001b[0m\u001b[0;34m\u001b[0m\u001b[0;34m\u001b[0m\u001b[0m\n\u001b[1;32m    109\u001b[0m         \u001b[0mright\u001b[0m\u001b[0;34m,\u001b[0m\u001b[0;34m\u001b[0m\u001b[0;34m\u001b[0m\u001b[0m\n\u001b[1;32m    110\u001b[0m         \u001b[0mhow\u001b[0m\u001b[0;34m=\u001b[0m\u001b[0mhow\u001b[0m\u001b[0;34m,\u001b[0m\u001b[0;34m\u001b[0m\u001b[0;34m\u001b[0m\u001b[0m\n",
      "\u001b[0;32m~/Documents/Data4Life/alp-ui/.venv/lib/python3.9/site-packages/pandas/core/reshape/merge.py\u001b[0m in \u001b[0;36m?\u001b[0;34m(self, left, right, how, on, left_on, right_on, axis, left_index, right_index, sort, suffixes, copy, indicator, validate)\u001b[0m\n\u001b[1;32m    696\u001b[0m         (\n\u001b[1;32m    697\u001b[0m             \u001b[0mself\u001b[0m\u001b[0;34m.\u001b[0m\u001b[0mleft_join_keys\u001b[0m\u001b[0;34m,\u001b[0m\u001b[0;34m\u001b[0m\u001b[0;34m\u001b[0m\u001b[0m\n\u001b[1;32m    698\u001b[0m             \u001b[0mself\u001b[0m\u001b[0;34m.\u001b[0m\u001b[0mright_join_keys\u001b[0m\u001b[0;34m,\u001b[0m\u001b[0;34m\u001b[0m\u001b[0;34m\u001b[0m\u001b[0m\n\u001b[1;32m    699\u001b[0m             \u001b[0mself\u001b[0m\u001b[0;34m.\u001b[0m\u001b[0mjoin_names\u001b[0m\u001b[0;34m,\u001b[0m\u001b[0;34m\u001b[0m\u001b[0;34m\u001b[0m\u001b[0m\n\u001b[0;32m--> 700\u001b[0;31m         ) = self._get_merge_keys()\n\u001b[0m\u001b[1;32m    701\u001b[0m \u001b[0;34m\u001b[0m\u001b[0m\n\u001b[1;32m    702\u001b[0m         \u001b[0;31m# validate the merge keys dtypes. We may need to coerce\u001b[0m\u001b[0;34m\u001b[0m\u001b[0;34m\u001b[0m\u001b[0m\n\u001b[1;32m    703\u001b[0m         \u001b[0;31m# to avoid incompatible dtypes\u001b[0m\u001b[0;34m\u001b[0m\u001b[0;34m\u001b[0m\u001b[0m\n",
      "\u001b[0;32m~/Documents/Data4Life/alp-ui/.venv/lib/python3.9/site-packages/pandas/core/reshape/merge.py\u001b[0m in \u001b[0;36m?\u001b[0;34m(self)\u001b[0m\n\u001b[1;32m   1118\u001b[0m                 \u001b[0;32mif\u001b[0m \u001b[0mis_lkey\u001b[0m\u001b[0;34m(\u001b[0m\u001b[0mk\u001b[0m\u001b[0;34m)\u001b[0m\u001b[0;34m:\u001b[0m\u001b[0;34m\u001b[0m\u001b[0;34m\u001b[0m\u001b[0m\n\u001b[1;32m   1119\u001b[0m                     \u001b[0mleft_keys\u001b[0m\u001b[0;34m.\u001b[0m\u001b[0mappend\u001b[0m\u001b[0;34m(\u001b[0m\u001b[0mk\u001b[0m\u001b[0;34m)\u001b[0m\u001b[0;34m\u001b[0m\u001b[0;34m\u001b[0m\u001b[0m\n\u001b[1;32m   1120\u001b[0m                     \u001b[0mjoin_names\u001b[0m\u001b[0;34m.\u001b[0m\u001b[0mappend\u001b[0m\u001b[0;34m(\u001b[0m\u001b[0;32mNone\u001b[0m\u001b[0;34m)\u001b[0m\u001b[0;34m\u001b[0m\u001b[0;34m\u001b[0m\u001b[0m\n\u001b[1;32m   1121\u001b[0m                 \u001b[0;32melse\u001b[0m\u001b[0;34m:\u001b[0m\u001b[0;34m\u001b[0m\u001b[0;34m\u001b[0m\u001b[0m\n\u001b[0;32m-> 1122\u001b[0;31m                     \u001b[0mleft_keys\u001b[0m\u001b[0;34m.\u001b[0m\u001b[0mappend\u001b[0m\u001b[0;34m(\u001b[0m\u001b[0mleft\u001b[0m\u001b[0;34m.\u001b[0m\u001b[0m_get_label_or_level_values\u001b[0m\u001b[0;34m(\u001b[0m\u001b[0mk\u001b[0m\u001b[0;34m)\u001b[0m\u001b[0;34m)\u001b[0m\u001b[0;34m\u001b[0m\u001b[0;34m\u001b[0m\u001b[0m\n\u001b[0m\u001b[1;32m   1123\u001b[0m                     \u001b[0mjoin_names\u001b[0m\u001b[0;34m.\u001b[0m\u001b[0mappend\u001b[0m\u001b[0;34m(\u001b[0m\u001b[0mk\u001b[0m\u001b[0;34m)\u001b[0m\u001b[0;34m\u001b[0m\u001b[0;34m\u001b[0m\u001b[0m\n\u001b[1;32m   1124\u001b[0m             \u001b[0;32mif\u001b[0m \u001b[0misinstance\u001b[0m\u001b[0;34m(\u001b[0m\u001b[0mself\u001b[0m\u001b[0;34m.\u001b[0m\u001b[0mright\u001b[0m\u001b[0;34m.\u001b[0m\u001b[0mindex\u001b[0m\u001b[0;34m,\u001b[0m \u001b[0mMultiIndex\u001b[0m\u001b[0;34m)\u001b[0m\u001b[0;34m:\u001b[0m\u001b[0;34m\u001b[0m\u001b[0;34m\u001b[0m\u001b[0m\n\u001b[1;32m   1125\u001b[0m                 right_keys = [\n",
      "\u001b[0;32m~/Documents/Data4Life/alp-ui/.venv/lib/python3.9/site-packages/pandas/core/generic.py\u001b[0m in \u001b[0;36m?\u001b[0;34m(self, key, axis)\u001b[0m\n\u001b[1;32m   1836\u001b[0m             \u001b[0mvalues\u001b[0m \u001b[0;34m=\u001b[0m \u001b[0mself\u001b[0m\u001b[0;34m.\u001b[0m\u001b[0mxs\u001b[0m\u001b[0;34m(\u001b[0m\u001b[0mkey\u001b[0m\u001b[0;34m,\u001b[0m \u001b[0maxis\u001b[0m\u001b[0;34m=\u001b[0m\u001b[0mother_axes\u001b[0m\u001b[0;34m[\u001b[0m\u001b[0;36m0\u001b[0m\u001b[0;34m]\u001b[0m\u001b[0;34m)\u001b[0m\u001b[0;34m.\u001b[0m\u001b[0m_values\u001b[0m\u001b[0;34m\u001b[0m\u001b[0;34m\u001b[0m\u001b[0m\n\u001b[1;32m   1837\u001b[0m         \u001b[0;32melif\u001b[0m \u001b[0mself\u001b[0m\u001b[0;34m.\u001b[0m\u001b[0m_is_level_reference\u001b[0m\u001b[0;34m(\u001b[0m\u001b[0mkey\u001b[0m\u001b[0;34m,\u001b[0m \u001b[0maxis\u001b[0m\u001b[0;34m=\u001b[0m\u001b[0maxis\u001b[0m\u001b[0;34m)\u001b[0m\u001b[0;34m:\u001b[0m\u001b[0;34m\u001b[0m\u001b[0;34m\u001b[0m\u001b[0m\n\u001b[1;32m   1838\u001b[0m             \u001b[0mvalues\u001b[0m \u001b[0;34m=\u001b[0m \u001b[0mself\u001b[0m\u001b[0;34m.\u001b[0m\u001b[0maxes\u001b[0m\u001b[0;34m[\u001b[0m\u001b[0maxis\u001b[0m\u001b[0;34m]\u001b[0m\u001b[0;34m.\u001b[0m\u001b[0mget_level_values\u001b[0m\u001b[0;34m(\u001b[0m\u001b[0mkey\u001b[0m\u001b[0;34m)\u001b[0m\u001b[0;34m.\u001b[0m\u001b[0m_values\u001b[0m\u001b[0;34m\u001b[0m\u001b[0;34m\u001b[0m\u001b[0m\n\u001b[1;32m   1839\u001b[0m         \u001b[0;32melse\u001b[0m\u001b[0;34m:\u001b[0m\u001b[0;34m\u001b[0m\u001b[0;34m\u001b[0m\u001b[0m\n\u001b[0;32m-> 1840\u001b[0;31m             \u001b[0;32mraise\u001b[0m \u001b[0mKeyError\u001b[0m\u001b[0;34m(\u001b[0m\u001b[0mkey\u001b[0m\u001b[0;34m)\u001b[0m\u001b[0;34m\u001b[0m\u001b[0;34m\u001b[0m\u001b[0m\n\u001b[0m\u001b[1;32m   1841\u001b[0m \u001b[0;34m\u001b[0m\u001b[0m\n\u001b[1;32m   1842\u001b[0m         \u001b[0;31m# Check for duplicates\u001b[0m\u001b[0;34m\u001b[0m\u001b[0;34m\u001b[0m\u001b[0m\n\u001b[1;32m   1843\u001b[0m         \u001b[0;32mif\u001b[0m \u001b[0mvalues\u001b[0m\u001b[0;34m.\u001b[0m\u001b[0mndim\u001b[0m \u001b[0;34m>\u001b[0m \u001b[0;36m1\u001b[0m\u001b[0;34m:\u001b[0m\u001b[0;34m\u001b[0m\u001b[0;34m\u001b[0m\u001b[0m\n",
      "\u001b[0;31mKeyError\u001b[0m: 'pid'"
     ]
    }
   ],
   "source": [
    "from IPython.display import display, HTML\n",
    "\n",
    "\n",
    "def printer(title: str = \"\", d: dict = {}):\n",
    "    print(f\"patient entity merged with other entities for {title}\\n\")\n",
    "    r = Result().download_patient_dataframe(d, 51)\n",
    "    display(HTML(r[:10].to_html()))\n",
    "\n",
    "\n",
    "def printer2(title: str = \"\", d: dict = {}):\n",
    "    print(f\"all entities for {title}\\n\")\n",
    "    r = Result().download_all_entities_dataframe(d, 51)\n",
    "    for entity_name in r.keys():\n",
    "        print(f\"{entity_name}: {len(r[entity_name])} rows\\n\")\n",
    "        display(HTML(r[entity_name][:10].to_html()))\n",
    "\n",
    "printer2(\"no_columns\", no_columns)\n",
    "printer2(\"specific_columns_visit\", specific_columns_visit)\n",
    "printer2(\"specific_columns_patient\", specific_columns_patient)\n",
    "printer(\"one_column_patient_one_column_visit\", one_column_patient_one_column_visit)\n",
    "printer2(\"obs_not_in_filtercard\", obs_not_in_filtercard)"
   ]
  }
 ],
 "metadata": {
  "kernelspec": {
   "display_name": "Python 3.9.15 ('pyqeenv': venv)",
   "language": "python",
   "name": "python3"
  },
  "language_info": {
   "codemirror_mode": {
    "name": "ipython",
    "version": 3
   },
   "file_extension": ".py",
   "mimetype": "text/x-python",
   "name": "python",
   "nbconvert_exporter": "python",
   "pygments_lexer": "ipython3",
   "version": "3.9.6"
  },
  "orig_nbformat": 2,
  "vscode": {
   "interpreter": {
    "hash": "0cbd3df2f8d42fe7c3628ff2c211d017ccbf0b769c116dde5fc0be94617af007"
   }
  }
 },
 "nbformat": 4,
 "nbformat_minor": 2
}
