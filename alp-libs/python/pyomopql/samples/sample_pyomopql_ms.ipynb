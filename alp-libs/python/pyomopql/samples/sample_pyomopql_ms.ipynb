{
 "cells": [
  {
   "cell_type": "code",
   "execution_count": null,
   "metadata": {},
   "outputs": [],
   "source": [
    "# Install pyomopql on Python 3.8 Kernel\n",
    "\n",
    "!pip uninstall pyomopql && pip install pyomopql-0.0.1-py3-none-any.whl"
   ]
  },
  {
   "cell_type": "code",
   "execution_count": null,
   "metadata": {},
   "outputs": [],
   "source": [
    "# Update first 5 environment variables mandatorily\n",
    "\n",
    "%env PYOMOPQL_HOST=10.102.50.4\n",
    "%env PYOMOPQL_PORT=30044\n",
    "%env PYOMOPQL_USER=system\n",
    "%env PYOMOPQL_DATABASE=ALPDEV\n",
    "%env PYOMOPQL_CURRENT_SCHEMA=CDMDEFAULT\n",
    "%env PYOMOPQL_SSL_HOSTNAME_IN_CERT=None\n",
    "%env PYOMOPQL_SSL_TRUSTSTORE=None\n",
    "%env PYOMOPQL_CONNECT_TIMEOUT=0\n",
    "%env PYOMOPQL_ENCRYPT=TRUE\n",
    "%env PYOMOPQL_SSL_VALIDATE_CERTIFICATE=FALSE"
   ]
  },
  {
   "cell_type": "code",
   "execution_count": null,
   "metadata": {},
   "outputs": [],
   "source": [
    "import os\n",
    "from pyomopql import Hana\n",
    "from pyomopql import HanaCursor\n",
    "import logging\n",
    "logging.basicConfig()\n",
    "logging.getLogger().setLevel(logging.INFO)"
   ]
  },
  {
   "cell_type": "code",
   "execution_count": null,
   "metadata": {},
   "outputs": [],
   "source": [
    "# Example 1\n",
    "hana = Hana()\n",
    "result1 = hana.getResult(\"select * from CONCEPT where CONCEPT_ID=?\", [35406484], HanaCursor.fetchAllCallback)\n",
    "print(result1)"
   ]
  },
  {
   "cell_type": "code",
   "execution_count": null,
   "metadata": {},
   "outputs": [],
   "source": [
    "# Example 2. Pick properties from here https://help.sap.com/docs/SAP_HANA_PLATFORM/0eec0d68141541d1b07893a39944924e/ee592e89dcce4480a99571a4ae7a702f.html?locale=en-US\n",
    "# They can be passed as arguments when creating a Hana Object as below. These arguments will take\n",
    "# precendence over the variables defined in the env. In this example `currentSchema` will override\n",
    "# PYOMOPQL_CURRENT_SCHEMA defined in env and `locale`` property is added to connection properties while connecting to HANA\n",
    "\n",
    "hanaOverrideArgs = Hana(currentSchema=\"CDMDEFAULT\", locale=\"en-US\")\n",
    "result2 = hanaOverrideArgs.getResult(\"select * from CONCEPT where CONCEPT_ID=?\",[35406484], HanaCursor.fetchAllCallback)\n",
    "print(result2)\n"
   ]
  },
  {
   "cell_type": "code",
   "execution_count": null,
   "metadata": {},
   "outputs": [],
   "source": [
    "# Example 3. Custom cursor Callback. You can pass your own callback as well\n",
    "\n",
    "def fetchOneCallback(cursor):\n",
    "     return cursor.fetchone()\n",
    "\n",
    "result3 = hana.getResult(\"select top 5 * from CONCEPT\",[], fetchOneCallback)\n",
    "print(result3)"
   ]
  },
  {
   "cell_type": "code",
   "execution_count": null,
   "metadata": {
    "collapsed": false,
    "jupyter": {
     "outputs_hidden": false,
     "source_hidden": false
    },
    "nteract": {
     "transient": {
      "deleting": false
     }
    }
   },
   "outputs": [],
   "source": [
    "# Example 4. Example thats used to get a HANA connection and then do everything by self\n",
    "\n",
    "from pyomopql import Hana\n",
    "\n",
    "# Get connection and cursor\n",
    "conn = hana.getConnection()\n",
    "cursor = conn.cursor()\n",
    "\n",
    "# Execute cursor and fetch data\n",
    "cursor.execute('SELECT top 5 * from CONCEPT', [])\n",
    "data = cursor.fetchall()\n",
    "print(data)\n",
    "\n",
    "# Close cursor and connection\n",
    "cursor.close()\n",
    "conn.close()"
   ]
  },
  {
   "cell_type": "code",
   "execution_count": null,
   "metadata": {},
   "outputs": [],
   "source": [
    "# Example 5, convert the results to a pandas dataframe with column headers\n",
    "df = hana.getResult(\"select top 5 * from CONCEPT\", [],\n",
    "\t\t\t\t\t\t\tHanaCursor.fetchDataframeCallback\n",
    "\t\t\t\t\t\t\t)\n",
    "df.head(3)"
   ]
  },
  {
   "cell_type": "code",
   "execution_count": null,
   "metadata": {
    "collapsed": false,
    "jupyter": {
     "outputs_hidden": false,
     "source_hidden": false
    },
    "nteract": {
     "transient": {
      "deleting": false
     }
    }
   },
   "outputs": [],
   "source": [
    "# Methods that are available in Hana class\n",
    "\n",
    "from pyomopql import Hana\n",
    "help(Hana)"
   ]
  },
  {
   "cell_type": "code",
   "execution_count": null,
   "metadata": {
    "collapsed": false,
    "jupyter": {
     "outputs_hidden": false,
     "source_hidden": false
    },
    "nteract": {
     "transient": {
      "deleting": false
     }
    }
   },
   "outputs": [],
   "source": [
    "# Methods that are available in HanaCursor class\n",
    "\n",
    "from pyomopql import HanaCursor\n",
    "help(HanaCursor)"
   ]
  }
 ],
 "metadata": {
  "interpreter": {
   "hash": "735d68c2195b6a4e8282ba15c4b24a979d6e7543e654de58570b72eb4e39fe6d"
  },
  "kernel_info": {
   "name": "python38-azureml"
  },
  "kernelspec": {
   "display_name": "Python 3.8 - AzureML",
   "language": "python",
   "name": "python3"
  },
  "language_info": {
   "codemirror_mode": {
    "name": "ipython",
    "version": 3
   },
   "file_extension": ".py",
   "mimetype": "text/x-python",
   "name": "python",
   "nbconvert_exporter": "python",
   "pygments_lexer": "ipython3",
   "version": "3.7.4"
  },
  "nteract": {
   "version": "nteract-front-end@1.0.0"
  }
 },
 "nbformat": 4,
 "nbformat_minor": 4
}
