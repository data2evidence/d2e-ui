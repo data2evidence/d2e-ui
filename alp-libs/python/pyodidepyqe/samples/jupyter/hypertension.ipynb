{
 "cells": [
  {
   "cell_type": "markdown",
   "metadata": {},
   "source": [
    "## Retrieve patient count with patients with hypertension\n",
    "\n",
    "1) Setup the imports"
   ]
  },
  {
   "cell_type": "code",
   "execution_count": null,
   "metadata": {},
   "outputs": [],
   "source": [
    " # Path has to be set before importing pyqe\n",
    "import sys, os \n",
    "sys.path.append(os.path.join(sys.path[0],'..', '..'))\n",
    " \n",
    "import json\n",
    "from pyqe.api.query import Query\n",
    "from pyqe.api.result import Result\n",
    "from pyqe.ql.interaction import Interactions\n",
    "from pyqe.api.concept_query import ConceptQuery, ConceptSet, Concept\n",
    "from pyqe.ql.criteria_group import CriteriaGroup\n",
    "from pyqe.types.enum_types import MatchCriteria, Domain"
   ]
  },
  {
   "cell_type": "markdown",
   "metadata": {},
   "source": [
    "2) Define query with name"
   ]
  },
  {
   "cell_type": "code",
   "execution_count": null,
   "metadata": {},
   "outputs": [],
   "source": [
    "query = Query('Patient_With_Hypertension_Count')\n",
    "await query.get_study_list()"
   ]
  },
  {
   "cell_type": "markdown",
   "metadata": {},
   "source": [
    "3) Generate standard concept ids from concept codes"
   ]
  },
  {
   "cell_type": "code",
   "execution_count": null,
   "metadata": {},
   "outputs": [],
   "source": [
    "await query.set_study('703c5d8a-a1d9-4d42-a314-5b9aad513390')"
   ]
  },
  {
   "cell_type": "code",
   "execution_count": null,
   "metadata": {},
   "outputs": [],
   "source": [
    "conceptQuery = ConceptQuery()\n",
    "hypertension_condition_concept_codes = ['401', '401.1']\n",
    "\n",
    "hypertension_condition_concept_ids = [ (await conceptQuery.get_standard_concept_ids(concept_code))[0]['conceptId'] for concept_code in hypertension_condition_concept_codes]\n",
    "hypertension_condition_concept_ids.append((await conceptQuery.get_standard_concept_ids('401.9', 'ICD9CM'))[0]['conceptId'])"
   ]
  },
  {
   "cell_type": "markdown",
   "metadata": {},
   "source": [
    "4) Define condition occurrence filter with hypertension concept codes"
   ]
  },
  {
   "cell_type": "code",
   "execution_count": null,
   "metadata": {},
   "outputs": [],
   "source": [
    "hypertensions = ConceptSet('Hypertensions', Domain.CONDITION, hypertension_condition_concept_ids)\n",
    "hypertension_condition = Interactions.ConditionOccurrence('Hypertension conditions')\n",
    "hypertension_condition.add_concept_set(hypertensions)"
   ]
  },
  {
   "cell_type": "markdown",
   "metadata": {},
   "source": [
    "6) Define patient count filter request by adding filters"
   ]
  },
  {
   "cell_type": "code",
   "execution_count": null,
   "metadata": {
    "tags": []
   },
   "outputs": [],
   "source": [
    "# Create criteria group to create query matching all the filters\n",
    "query.add_criteria_group(CriteriaGroup(MatchCriteria.ALL, [hypertension_condition]))\n",
    "request = query.get_patient_count_filter()\n",
    "# Print request\n",
    "# print(f'\\nRequest: {json.dumps(request)}')"
   ]
  },
  {
   "cell_type": "markdown",
   "metadata": {},
   "source": [
    "6) Get patient count with request"
   ]
  },
  {
   "cell_type": "code",
   "execution_count": null,
   "metadata": {
    "tags": []
   },
   "outputs": [],
   "source": [
    "patient_count = await Result().get_patient_count(request)\n",
    "print(\n",
    "    f'\\nTotal patients with hypertension condition: {patient_count}')"
   ]
  }
 ],
 "metadata": {
  "kernelspec": {
   "display_name": "Python 3.8.9 64-bit",
   "language": "python",
   "name": "python3"
  },
  "language_info": {
   "codemirror_mode": {
    "name": "ipython",
    "version": 3
   },
   "file_extension": ".py",
   "mimetype": "text/x-python",
   "name": "python",
   "nbconvert_exporter": "python",
   "pygments_lexer": "ipython3",
   "version": "3.8.9"
  },
  "orig_nbformat": 2,
  "vscode": {
   "interpreter": {
    "hash": "31f2aee4e71d21fbe5cf8b01ff0e069b9275f58929596ceb00d14d90e3e16cd6"
   }
  }
 },
 "nbformat": 4,
 "nbformat_minor": 2
}
