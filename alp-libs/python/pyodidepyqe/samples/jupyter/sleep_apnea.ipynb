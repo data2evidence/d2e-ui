{
 "cells": [
  {
   "cell_type": "markdown",
   "metadata": {},
   "source": [
    "## Retrieve patient count with Sleep Apnea condition, device exposure & procedure\n",
    "\n",
    "1) Setup the imports"
   ]
  },
  {
   "cell_type": "code",
   "execution_count": null,
   "metadata": {},
   "outputs": [],
   "source": [
    " # Path has to be set before importing pyqe\n",
    "import sys, os \n",
    "sys.path.append(os.path.join(sys.path[0],'..', '..'))\n",
    " \n",
    "import json\n",
    "from pyqe.api.query import Query\n",
    "from pyqe.api.result import Result\n",
    "from pyqe.api.concept_query import ConceptSet, ConceptQuery\n",
    "from pyqe.ql.interaction import Interactions\n",
    "from pyqe.ql.criteria_group import CriteriaGroup\n",
    "from pyqe.ql.attribute import Attribute, Constraint, Expression\n",
    "from pyqe.types.enum_types import ComparisonOperator, MatchCriteria, Domain"
   ]
  },
  {
   "cell_type": "markdown",
   "metadata": {},
   "source": [
    "2) Define query with name"
   ]
  },
  {
   "cell_type": "code",
   "execution_count": null,
   "metadata": {},
   "outputs": [],
   "source": [
    "query = Query('Patient_With_Sleep_Apnea_Count')\n",
    "await query.set_study(\"703c5d8a-a1d9-4d42-a314-5b9aad513390\")"
   ]
  },
  {
   "cell_type": "markdown",
   "metadata": {},
   "source": [
    "3) Generate standard concept ids from concept codes"
   ]
  },
  {
   "cell_type": "code",
   "execution_count": null,
   "metadata": {},
   "outputs": [],
   "source": [
    "conceptQuery = ConceptQuery()\n",
    "sleep_apnea_dx_concept_codes = ['313459', '41975002', '79280005', '78275009']\n",
    "sleep_apnea_dx_concept_ids = [(await conceptQuery.get_standard_concept_ids(concept_code))[0]['conceptId'] for concept_code in sleep_apnea_dx_concept_codes]\n",
    "\n",
    "sleep_apnea_device_concept_codes = ['A7034', 'A9270', 'E0470', 'E0471', 'E0601']\n",
    "sleep_apnea_device_concept_ids = [(await conceptQuery.get_standard_concept_ids(concept_code))[0]['conceptId'] for concept_code in sleep_apnea_device_concept_codes]\n",
    "\n",
    "sleep_apnea_cpt_procedure_concept_code = '103750000'\n",
    "sleep_apnea_cpt_procedure_concept_id = (await conceptQuery.get_standard_concept_ids(sleep_apnea_cpt_procedure_concept_code))[0]['conceptId']"
   ]
  },
  {
   "cell_type": "markdown",
   "metadata": {},
   "source": [
    "4) Define sleep apnea concept set filters"
   ]
  },
  {
   "cell_type": "code",
   "execution_count": null,
   "metadata": {},
   "outputs": [],
   "source": [
    "sleep_apnea_dx = ConceptSet('Sleep Apnea Dx', Domain.CONDITION, ['73430006', '41975002', '79280005', '78275009'])\n",
    "sleep_apnea_dx_condition = Interactions.ConditionOccurrence(sleep_apnea_dx.name)\n",
    "sleep_apnea_dx_condition.add_concept_set(sleep_apnea_dx)\n",
    "\n",
    "sleep_apnea_device = ConceptSet('Sleep Apnea Device', Domain.DEVICE, ['A7034', 'A9270', 'E0470', 'E0471', 'E0601'])\n",
    "sleep_apnea_device_exposure = Interactions.DeviceExposure(sleep_apnea_device.name)\n",
    "sleep_apnea_device_exposure.add_concept_set(sleep_apnea_device)\n",
    "\n",
    "sleep_apnea_cpt = ConceptSet('Sleep Apnea CPT4', Domain.PROCEDURE, ['95811'])\n",
    "sleep_apnea_cpt_procedure = Interactions.ProcedureOccurrence(sleep_apnea_cpt.name)\n",
    "sleep_apnea_cpt_procedure.add_concept_set(sleep_apnea_cpt)"
   ]
  },
  {
   "cell_type": "markdown",
   "metadata": {},
   "source": [
    "5) Define patient count filter request by adding criteria group containing the filters"
   ]
  },
  {
   "cell_type": "code",
   "execution_count": null,
   "metadata": {
    "tags": []
   },
   "outputs": [],
   "source": [
    "# Create criteria group to create query matching all filters\n",
    "query.add_criteria_group(CriteriaGroup(MatchCriteria.ALL, [sleep_apnea_dx_condition, sleep_apnea_device_exposure, sleep_apnea_cpt_procedure]))\n",
    "request = query.get_patient_count_filter()\n",
    "# Print request\n",
    "# print(f'\\nRequest: {json.dumps(request)}')"
   ]
  },
  {
   "cell_type": "markdown",
   "metadata": {},
   "source": [
    "6) Get patient count with request"
   ]
  },
  {
   "cell_type": "code",
   "execution_count": null,
   "metadata": {
    "tags": []
   },
   "outputs": [],
   "source": [
    "patient_count = await Result().get_patient_count(request)\n",
    "print(\n",
    "    f'\\nTotal patients with Sleep Apnea condition, device & CPT4 procedure: {patient_count}')"
   ]
  }
 ],
 "metadata": {
  "kernelspec": {
   "display_name": "Python 3.8.9 64-bit",
   "language": "python",
   "name": "python3"
  },
  "language_info": {
   "codemirror_mode": {
    "name": "ipython",
    "version": 3
   },
   "file_extension": ".py",
   "mimetype": "text/x-python",
   "name": "python",
   "nbconvert_exporter": "python",
   "pygments_lexer": "ipython3",
   "version": "3.8.9"
  },
  "orig_nbformat": 2,
  "vscode": {
   "interpreter": {
    "hash": "31f2aee4e71d21fbe5cf8b01ff0e069b9275f58929596ceb00d14d90e3e16cd6"
   }
  }
 },
 "nbformat": 4,
 "nbformat_minor": 2
}
