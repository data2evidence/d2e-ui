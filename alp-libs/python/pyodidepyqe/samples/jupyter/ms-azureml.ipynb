{
  "cells": [
    {
      "cell_type": "code",
      "execution_count": null,
      "metadata": {
        "gather": {
          "logged": 1633014783741
        }
      },
      "outputs": [],
      "source": [
        " # Path has to be set before importing pyqe\n",
        "import sys, os \n",
        "\n",
        "# REQUIRED - ALP CA certificate pem file\n",
        "ca_path = os.path.abspath(\"alp_ca.pem\")\n",
        "\n",
        "# REQUIRED - ALP query engine endpoint\n",
        "%env PYQE_URL=https://alp-sandbox.alp-dev.org/analytics-svc/ \n",
        "\n",
        "# REQUIRED - ALP app client id\n",
        "%env PYQE_JWT_AUDIENCE=6861a213-7cf3-4188-84f8-d18480a1ea4f \n",
        "\n",
        "%env PYQE_JWT_ALGORITHMS=RS256\n",
        "\n",
        "# REQUIRED - ALP app client id\n",
        "%env PYQE_AZUREADB2C_CLIENT_ID=6861a213-7cf3-4188-84f8-d18480a1ea4f\n",
        "\n",
        "# REQUIRED - ms login endpoint\n",
        "%env PYQE_AZUREADB2C_AUTHORITY=https://login.microsoftonline.com/77e89d61-570f-43b0-b9e4-634f462e34b8 \n",
        "\n",
        "# REQUIRED - # ALP pyqe scope\n",
        "%env PYQE_AZUREADB2C_SCOPES=api://6861a213-7cf3-4188-84f8-d18480a1ea4f/pyqe.client\n",
        "\n",
        "\n",
        "%env PYQE_CONNECT_TIMEOUT=3000\n",
        "%env PYQE_READ_TIMEOUT=7000\n",
        "%env PYQE_TLS_CLIENT_CA_CERT_PATH=$ca_path\n",
        "%env PYQE_USERNAME=\n",
        "\n",
        "%env PYQE_AUTH_TYPE=1\n",
        " \n",
        "\n",
        "sys.path.append(os.path.join(sys.path[0],'..', '..'))\n",
        " \n",
        "import json\n",
        "from pyqe import *\n",
        "\n",
        "\n",
        "query = Query('Number_of_patients')\n",
        "await query.get_study_list()\n",
        "study_id = input()\n",
        "await query.set_study(study_id)\n",
        "\n",
        "exp_equals_male = Expression(ComparisonOperator.EQUAL, 'Male')\n",
        "## 2.1 Create Gender Constraint\n",
        "constraint_male = Constraint()\n",
        "constraint_male.add(exp_equals_male)\n",
        "\n",
        "## 2.2 create Patient object and add the constraint\n",
        "filtercard_patient = Person.Patient()\n",
        "filtercard_patient.add_gender([constraint_male])\n",
        "\n",
        "## 2.3 Add Patient filter to the query\n",
        "query.add_filters([filtercard_patient])\n",
        "\n",
        "## 2.4 Create Result and Get Total Patient Count\n",
        "total_male_patients_req = query.get_patient_count_filter()\n",
        "total_male_patients = await Result().get_patient_count(total_male_patients_req)\n",
        "\n",
        "print(f'\\nTotal participants: {total_male_patients}')\n"
      ]
    },
    {
      "cell_type": "code",
      "execution_count": null,
      "metadata": {
        "gather": {
          "logged": 1633009809912
        },
        "jupyter": {
          "outputs_hidden": false,
          "source_hidden": false
        },
        "nteract": {
          "transient": {
            "deleting": false
          }
        }
      },
      "outputs": [],
      "source": [
        "query = Query('Number_of_female_patients')\n",
        "await query.get_study_list()"
      ]
    }
  ],
  "metadata": {
    "kernel_info": {
      "name": "python38-azureml"
    },
    "kernelspec": {
      "display_name": "Python 3.8 - AzureML",
      "language": "python",
      "name": "python38-azureml"
    },
    "language_info": {
      "codemirror_mode": {
        "name": "ipython",
        "version": 3
      },
      "file_extension": ".py",
      "mimetype": "text/x-python",
      "name": "python",
      "nbconvert_exporter": "python",
      "pygments_lexer": "ipython3",
      "version": "3.8.1"
    },
    "microsoft": {
      "host": {
        "AzureML": {
          "notebookHasBeenCompleted": true
        }
      }
    },
    "nteract": {
      "version": "nteract-front-end@1.0.0"
    }
  },
  "nbformat": 4,
  "nbformat_minor": 2
}
