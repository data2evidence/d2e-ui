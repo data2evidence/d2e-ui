{
  "cells": [
    {
      "cell_type": "code",
      "execution_count": null,
      "metadata": {},
      "outputs": [],
      "source": [
        "\n",
        " # Path has to be set before importing pyqe\n",
        "import sys, os \n",
        "sys.path.append(os.path.join(sys.path[0],'..', '..'))\n",
        " \n",
        "import json\n",
        "from pyqe import *\n",
        "from pyqe.api.query import Query\n",
        "from pyqe.api.result import Result\n",
        "from pyqe.ql.advanced_time_filter import AdvanceTimeFilter\n",
        "from pyqe.types.enum_types import TargetSelection , OriginSelection\n",
        "from pyqe.ql.interaction import Interactions"
      ]
    },
    {
      "cell_type": "code",
      "execution_count": null,
      "metadata": {},
      "outputs": [],
      "source": [
        "query_heartcondition = Query('Patients with heart condition')\n",
        "await query_heartcondition.get_study_list()"
      ]
    },
    {
      "cell_type": "code",
      "execution_count": null,
      "metadata": {},
      "outputs": [],
      "source": [
        "# set study\n",
        "await query_heartcondition.set_study('703c5d8a-a1d9-4d42-a314-5b9aad513390')"
      ]
    },
    {
      "cell_type": "code",
      "execution_count": null,
      "metadata": {},
      "outputs": [],
      "source": [
        "# set filtercard\n",
        "heart_failure_condition_filtercard = Interactions.ConditionOccurrence('Heart failure conditions')\n",
        "some_procedure_occurence_filtercard = Interactions.ProcedureOccurrence('procedure occurence')"
      ]
    },
    {
      "cell_type": "code",
      "execution_count": null,
      "metadata": {},
      "outputs": [],
      "source": [
        "# get targetInteraction name\n",
        "targetInteraction = some_procedure_occurence_filtercard.get_instance_id()\n",
        "\n",
        "# create advance time filter\n",
        "advanceTimeFilter = AdvanceTimeFilter(targetInteraction, OriginSelection.ENDED, TargetSelection.BEFORE_END ,12)"
      ]
    },
    {
      "cell_type": "code",
      "execution_count": null,
      "metadata": {},
      "outputs": [],
      "source": [
        "# add advance time filter to filter card\n",
        "heart_failure_condition_filtercard.add_advance_time_filter(advanceTimeFilter)\n",
        "query_heartcondition.add_filters([heart_failure_condition_filtercard])\n",
        "heartcondition_cohort = await query_heartcondition.get_cohort()"
      ]
    },
    {
      "cell_type": "code",
      "execution_count": null,
      "metadata": {},
      "outputs": [],
      "source": [
        "result = await Result()._get_patient(heartcondition_cohort)\n"
      ]
    },
    {
      "cell_type": "code",
      "execution_count": null,
      "metadata": {},
      "outputs": [],
      "source": [
        "print(len(result['data']))"
      ]
    }
  ],
  "metadata": {
    "interpreter": {
      "hash": "31f2aee4e71d21fbe5cf8b01ff0e069b9275f58929596ceb00d14d90e3e16cd6"
    },
    "kernelspec": {
      "display_name": "Python 3.8.9 64-bit",
      "language": "python",
      "name": "python3"
    },
    "language_info": {
      "codemirror_mode": {
        "name": "ipython",
        "version": 3
      },
      "file_extension": ".py",
      "mimetype": "text/x-python",
      "name": "python",
      "nbconvert_exporter": "python",
      "pygments_lexer": "ipython3",
      "version": "3.8.9"
    },
    "orig_nbformat": 4
  },
  "nbformat": 4,
  "nbformat_minor": 2
}
