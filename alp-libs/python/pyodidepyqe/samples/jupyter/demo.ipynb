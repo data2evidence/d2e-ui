{
 "cells": [
  {
   "cell_type": "markdown",
   "metadata": {},
   "source": [
    "## PyQE Patient Count Query Demo\n",
    "\n",
    "1) Setup the imports"
   ]
  },
  {
   "cell_type": "code",
   "execution_count": null,
   "metadata": {},
   "outputs": [],
   "source": [
    "import sys, os\n",
    "sys.path.append(os.path.join(sys.path[0],'..', '..'))\n",
    "from pyqe import *"
   ]
  },
  {
   "cell_type": "markdown",
   "metadata": {},
   "source": [
    "2) Define authenticated query with name"
   ]
  },
  {
   "cell_type": "code",
   "execution_count": null,
   "metadata": {
    "tags": []
   },
   "outputs": [],
   "source": [
    "query = Query('Number_of_female_patients_born_in_1930s_not_from_California_or_Florida')\n",
    "await query.get_study_list()"
   ]
  },
  {
   "cell_type": "markdown",
   "metadata": {},
   "source": [
    "3) Define patient filter"
   ]
  },
  {
   "cell_type": "code",
   "execution_count": null,
   "metadata": {},
   "outputs": [],
   "source": [
    "await query.set_study('703c5d8a-a1d9-4d42-a314-5b9aad513390')"
   ]
  },
  {
   "cell_type": "code",
   "execution_count": null,
   "metadata": {},
   "outputs": [],
   "source": [
    "female_patient = Person.Patient()\n",
    "female_constraint = Constraint().add(Expression(ComparisonOperator.EQUAL, 'Female'))\n",
    "female_patient.add_gender([female_constraint])\n",
    "\n",
    "not_ca_state_constraint = Constraint().add(Expression(ComparisonOperator.NOT_EQUAL, 'CA'))\n",
    "not_fl_state_constraint = Constraint().add(Expression(ComparisonOperator.NOT_EQUAL, 'FL'))\n",
    "female_patient.add_state([not_ca_state_constraint, not_fl_state_constraint])\n",
    "\n",
    "year_of_birth_constraint = Constraint()\n",
    "year_of_birth_constraint.add(Expression(ComparisonOperator.MORE_THAN_EQUAL, '1930'))\n",
    "year_of_birth_constraint.add(Expression(ComparisonOperator.LESS_THAN_EQUAL, '1939'))\n",
    "female_patient.add_year_of_birth([year_of_birth_constraint])"
   ]
  },
  {
   "cell_type": "markdown",
   "metadata": {},
   "source": [
    "4) Generate patient count filter request by adding the defined filter"
   ]
  },
  {
   "cell_type": "code",
   "execution_count": null,
   "metadata": {
    "tags": []
   },
   "outputs": [],
   "source": [
    "query.add_filters([female_patient])\n",
    "request = query.get_patient_count_filter()\n",
    "# Print request\n",
    "# print(f'\\nRequest: {json.dumps(request)}')"
   ]
  },
  {
   "cell_type": "markdown",
   "metadata": {},
   "source": [
    "5) Get patient count with request"
   ]
  },
  {
   "cell_type": "code",
   "execution_count": null,
   "metadata": {
    "tags": []
   },
   "outputs": [],
   "source": [
    "patient_count = await Result().get_patient_count(request)\n",
    "print(f'\\nTotal female patients born in 1930s not from California or Florida: {patient_count}')"
   ]
  },
  {
   "cell_type": "markdown",
   "metadata": {},
   "source": [
    "6) Add condition occurrence for low back pain or type 2 diabetes, generate request & get patient count"
   ]
  },
  {
   "cell_type": "code",
   "execution_count": null,
   "metadata": {},
   "outputs": [],
   "source": [
    "condition = Interactions.ConditionOccurrence('')\n",
    "low_back_pain_constraint = Constraint().add(Expression(ComparisonOperator.EQUAL, 'Low back pain'))\n",
    "type_2_diabetes_constraint = Constraint().add(Expression(ComparisonOperator.EQUAL, 'Type 2 diabetes mellitus'))\n",
    "condition.add_conditionname([low_back_pain_constraint, type_2_diabetes_constraint])\n",
    "query.add_filters([condition])\n",
    "\n",
    "request = query.get_patient_count_filter()\n",
    "# Print request\n",
    "# print(f'\\nRequest: {json.dumps(request)}')\n",
    "patient_count = await Result().get_patient_count(request)\n",
    "print(f'\\nTotal female patients born in 1930s not from California or Florida with Low back pain or Type 2 diabetes mellitus: {patient_count}')"
   ]
  },
  {
   "cell_type": "markdown",
   "metadata": {},
   "source": [
    "7) Define authenticated concept code query with name"
   ]
  },
  {
   "cell_type": "code",
   "execution_count": null,
   "metadata": {},
   "outputs": [],
   "source": [
    "concept_query = Query('Number_of_male_patients_with_outpatient_visits')\n",
    "concept_query.set_study('703c5d8a-a1d9-4d42-a314-5b9aad513390')"
   ]
  },
  {
   "cell_type": "markdown",
   "metadata": {},
   "source": [
    "8) Define criteria groups"
   ]
  },
  {
   "cell_type": "code",
   "execution_count": null,
   "metadata": {},
   "outputs": [],
   "source": [
    "male_patient = Person.Patient()\n",
    "male_patient.add_concept_set(ConceptSet('Male', Domain.GENDER, ['M']))\n",
    "\n",
    "outpatient_visit = Interactions.Visit('Outpatient Visit')\n",
    "outpatient_visit.add_concept_set(ConceptSet('Outpatient Visit', Domain.VISIT, ['OP']))"
   ]
  },
  {
   "cell_type": "markdown",
   "metadata": {},
   "source": [
    "9) Generate request & get patient count"
   ]
  },
  {
   "cell_type": "code",
   "execution_count": null,
   "metadata": {},
   "outputs": [],
   "source": [
    "male_outpatient_visit_group = CriteriaGroup(MatchCriteria.ALL,\n",
    "                                            [male_patient, outpatient_visit])\n",
    "concept_query.add_criteria_group(male_outpatient_visit_group)\n",
    "concept_request = concept_query.get_patient_count_filter()\n",
    "# print(f'\\nRequest: {json.dumps(request)}')\n",
    "\n",
    "concept_result = Result()\n",
    "concept_patient_count = await concept_result.get_patient_count(concept_request)\n",
    "print(f'\\nTotal male patient with outpatient visits: {concept_patient_count}')"
   ]
  },
  {
   "cell_type": "markdown",
   "metadata": {},
   "source": [
    "10) Create a phenotype example (sleep apnea)"
   ]
  },
  {
   "cell_type": "code",
   "execution_count": null,
   "metadata": {},
   "outputs": [],
   "source": [
    "conceptQuery = ConceptQuery()\n",
    "sleep_apnea_dx_concept_codes = ['313459', '41975002', '79280005', '78275009']\n",
    "sleep_apnea_dx_concept_ids = [(await conceptQuery.get_standard_concept_ids(concept_code))[0]['conceptId'] for concept_code in sleep_apnea_dx_concept_codes]\n",
    "\n",
    "sleep_apnea_device_concept_codes = ['A7034', 'A9270', 'E0470', 'E0471', 'E0601']\n",
    "sleep_apnea_device_concept_ids = [(await conceptQuery.get_standard_concept_ids(concept_code))[0]['conceptId'] for concept_code in sleep_apnea_device_concept_codes]\n",
    "\n",
    "sleep_apnea_cpt_procedure_concept_code = '95811'\n",
    "sleep_apnea_cpt_procedure_concept_id = (await conceptQuery.get_standard_concept_ids(sleep_apnea_cpt_procedure_concept_code))[0]['conceptId']"
   ]
  },
  {
   "cell_type": "code",
   "execution_count": null,
   "metadata": {},
   "outputs": [],
   "source": [
    "phenotype_query = Query('Total_Patients_With_Sleep_Apnea')\n",
    "phenotype_query.set_study('703c5d8a-a1d9-4d42-a314-5b9aad513390')\n",
    "\n",
    "sleep_apnea_dx = ConceptSet('Sleep Apnea Dx', Domain.CONDITION, sleep_apnea_dx_concept_ids)\n",
    "sleep_apnea_dx_condition = Interactions.ConditionOccurrence(sleep_apnea_dx.name)\n",
    "sleep_apnea_dx_condition.add_concept_set(sleep_apnea_dx)\n",
    "\n",
    "sleep_apnea_device = ConceptSet('Sleep Apnea Device', Domain.DEVICE, sleep_apnea_device_concept_ids)\n",
    "sleep_apnea_device_exposure = Interactions.DeviceExposure(sleep_apnea_device.name)\n",
    "sleep_apnea_device_exposure.add_concept_set(sleep_apnea_device)\n",
    "\n",
    "\n",
    "phenotype_query.add_criteria_group(CriteriaGroup(MatchCriteria.ALL, [sleep_apnea_dx_condition, sleep_apnea_device_exposure]))\n",
    "phenotype_request = phenotype_query.get_patient_count_filter()\n",
    "\n",
    "phenotype_patient_count = await Result().get_patient_count(phenotype_request)\n",
    "print(\n",
    "    f'\\nTotal patients with Sleep Apnea condition and device exposure: {phenotype_patient_count}')"
   ]
  }
 ],
 "metadata": {
  "kernelspec": {
   "display_name": "Python 3.8.9 64-bit",
   "language": "python",
   "name": "python3"
  },
  "language_info": {
   "codemirror_mode": {
    "name": "ipython",
    "version": 3
   },
   "file_extension": ".py",
   "mimetype": "text/x-python",
   "name": "python",
   "nbconvert_exporter": "python",
   "pygments_lexer": "ipython3",
   "version": "3.10.13"
  },
  "orig_nbformat": 2,
  "vscode": {
   "interpreter": {
    "hash": "31f2aee4e71d21fbe5cf8b01ff0e069b9275f58929596ceb00d14d90e3e16cd6"
   }
  }
 },
 "nbformat": 4,
 "nbformat_minor": 2
}
