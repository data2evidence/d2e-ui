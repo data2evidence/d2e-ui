{
 "cells": [
  {
   "cell_type": "markdown",
   "metadata": {},
   "source": [
    "## PyQE Download Dataframe Query Demo\n",
    "\n",
    "1) Setup the imports"
   ]
  },
  {
   "cell_type": "code",
   "execution_count": 1,
   "metadata": {},
   "outputs": [],
   "source": [
    "# Path has to be set before importing pyqe\n",
    "import sys, os \n",
    "sys.path.append(os.path.join(sys.path[0],'..', '..'))\n",
    " \n",
    "import json\n",
    "from pyqe import *"
   ]
  },
  {
   "cell_type": "markdown",
   "metadata": {},
   "source": [
    "2) Define authenticated query"
   ]
  },
  {
   "cell_type": "code",
   "execution_count": null,
   "metadata": {},
   "outputs": [],
   "source": [
    "query = Query('All_Patients_Dataframe_Query')\n",
    "await query.get_study_list()"
   ]
  },
  {
   "cell_type": "code",
   "execution_count": null,
   "metadata": {},
   "outputs": [],
   "source": [
    "await query.set_study('703c5d8a-a1d9-4d42-a314-5b9aad513390')\n",
    "### NOTE: only one filter card type can be added for dataframe download\n",
    "# Add Patient\n",
    "query.add_filters([Person.Patient()])\n",
    "# Add Interaction (OMOP)\n",
    "# query.add_filters([Interactions.ConditionOccurrence('condition')])\n"
   ]
  },
  {
   "cell_type": "markdown",
   "metadata": {},
   "source": [
    "3) Generate download cohort request"
   ]
  },
  {
   "cell_type": "code",
   "execution_count": null,
   "metadata": {
    "tags": []
   },
   "outputs": [],
   "source": [
    "request = await query.get_dataframe_cohort()\n",
    "# Print request\n",
    "# print(f'\\nRequest: {json.dumps(request)}')"
   ]
  },
  {
   "cell_type": "markdown",
   "metadata": {},
   "source": [
    "4) Download dataframe with request"
   ]
  },
  {
   "cell_type": "code",
   "execution_count": null,
   "metadata": {
    "tags": []
   },
   "outputs": [],
   "source": [
    "patient_dataframe = await Result().download_dataframe(request, \"patient.csv\", limit = 50)\n",
    "print(f'\\nPatient dataframe: \\n{patient_dataframe}')"
   ]
  },
  {
   "cell_type": "markdown",
   "metadata": {},
   "source": [
    "5. Download a portion of dataframe with request"
   ]
  },
  {
   "cell_type": "code",
   "execution_count": null,
   "metadata": {},
   "outputs": [],
   "source": [
    "patient_dataframe_subset = await Result().download_dataframe(request, \"patient.csv\", limit = 50, offset = 15)\n",
    "print(f'\\nPatient dataframe: \\n{patient_dataframe_subset}')"
   ]
  },
  {
   "cell_type": "markdown",
   "metadata": {},
   "source": [
    "6) Define authenticated query with female filter"
   ]
  },
  {
   "cell_type": "code",
   "execution_count": null,
   "metadata": {},
   "outputs": [],
   "source": [
    "female_query = Query('Female_Patients_Dataframe_Query')\n",
    "await female_query.set_study('703c5d8a-a1d9-4d42-a314-5b9aad513390')\n",
    "female_patient = Person.Patient()\n",
    "female_constraint = Constraint().add(Expression(ComparisonOperator.EQUAL, 'Female'))\n",
    "female_patient.add_gender([female_constraint])\n",
    "\n",
    "female_query.add_filters([female_patient])"
   ]
  },
  {
   "cell_type": "markdown",
   "metadata": {},
   "source": [
    "7) Generate download cohort request with specific column config paths for one filter card type"
   ]
  },
  {
   "cell_type": "code",
   "execution_count": null,
   "metadata": {},
   "outputs": [],
   "source": [
    "specific_columns_request = await female_query.get_dataframe_cohort(['patient.attributes.pid', 'patient.attributes.age', 'patient.attributes.gender'])\n",
    "# Print request\n",
    "# print(f'\\nRequest: {json.dumps(specific_columns_request)}')"
   ]
  },
  {
   "cell_type": "markdown",
   "metadata": {},
   "source": [
    "8) Download dataframe with request"
   ]
  },
  {
   "cell_type": "code",
   "execution_count": null,
   "metadata": {},
   "outputs": [],
   "source": [
    "female_patient_dataframe = await Result().download_dataframe(specific_columns_request, \"female_patient.csv\")\n",
    "print(f'\\nFemale patient dataframe: \\n{female_patient_dataframe}')"
   ]
  },
  {
   "cell_type": "markdown",
   "metadata": {},
   "source": [
    "9. Download portion of dataframe with request"
   ]
  },
  {
   "cell_type": "code",
   "execution_count": null,
   "metadata": {},
   "outputs": [],
   "source": [
    "female_patient_dataframe_subset =await Result().download_dataframe(specific_columns_request, \"female_patient.csv\", limit = 100, offset = 10)\n",
    "print(f'\\nFemale patient dataframe: \\n{female_patient_dataframe_subset}')"
   ]
  }
 ],
 "metadata": {
  "interpreter": {
   "hash": "916dbcbb3f70747c44a77c7bcd40155683ae19c65e1c03b4aa3499c5328201f1"
  },
  "kernelspec": {
   "display_name": "Python 3.8.10 64-bit",
   "name": "python3"
  },
  "language_info": {
   "codemirror_mode": {
    "name": "ipython",
    "version": 3
   },
   "file_extension": ".py",
   "mimetype": "text/x-python",
   "name": "python",
   "nbconvert_exporter": "python",
   "pygments_lexer": "ipython3",
   "version": "3.9.6"
  },
  "orig_nbformat": 2
 },
 "nbformat": 4,
 "nbformat_minor": 2
}
