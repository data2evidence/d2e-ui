{
 "cells": [
  {
   "cell_type": "code",
   "execution_count": null,
   "metadata": {},
   "outputs": [],
   "source": [
    " # Path has to be set before importing pyqe\n",
    "import sys, os \n",
    "sys.path.append(os.path.join(sys.path[0],'..', '..'))\n",
    " \n",
    "import json\n",
    "from pyqe.api.query import Query\n",
    "from pyqe.api.result import Result\n",
    "from pyqe.ql.attribute import Constraint, Expression\n",
    "from pyqe.types.enum_types import ComparisonOperator\n",
    "from pyqe.ql.person import Person"
   ]
  },
  {
   "cell_type": "code",
   "execution_count": null,
   "metadata": {},
   "outputs": [],
   "source": [
    "query = Query('Number_of_patients_who_are_doctor')\n",
    "query.set_study(\"703c5d8a-a1d9-4d42-a314-5b9aad513390\")"
   ]
  },
  {
   "cell_type": "code",
   "execution_count": null,
   "metadata": {},
   "outputs": [],
   "source": [
    "vaccineEffectivenessPatient = Person.Patient()\n",
    "\n",
    "doctor_constraint = Constraint().add(Expression(ComparisonOperator.EQUAL, 'doctor'))\n",
    "nurse_constraint = Constraint().add(Expression(ComparisonOperator.EQUAL, 'nursing_staff'))\n",
    "vaccineEffectivenessPatient.add_groupid([doctor_constraint, nurse_constraint])"
   ]
  },
  {
   "cell_type": "code",
   "execution_count": null,
   "metadata": {},
   "outputs": [],
   "source": [
    "query.add_filters([vaccineEffectivenessPatient])\n",
    "request = query.get_patient_count_filter()"
   ]
  },
  {
   "cell_type": "code",
   "execution_count": null,
   "metadata": {},
   "outputs": [],
   "source": [
    "patient_count = await Result().get_patient_count(request)\n",
    "print(f'\\nTotal filtered patient in vaccine effectiveness study: { patient_count }')"
   ]
  }
 ],
 "metadata": {
  "kernelspec": {
   "display_name": "Python 3",
   "language": "python",
   "name": "python3"
  },
  "language_info": {
   "codemirror_mode": {
    "name": "ipython",
    "version": 3
   },
   "file_extension": ".py",
   "mimetype": "text/x-python",
   "name": "python",
   "nbconvert_exporter": "python",
   "pygments_lexer": "ipython3",
   "version": "3.7.4-final"
  },
  "orig_nbformat": 2
 },
 "nbformat": 4,
 "nbformat_minor": 2
}
