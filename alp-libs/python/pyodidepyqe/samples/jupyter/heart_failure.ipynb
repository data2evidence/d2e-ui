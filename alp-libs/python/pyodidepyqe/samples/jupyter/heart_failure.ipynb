{
 "cells": [
  {
   "cell_type": "markdown",
   "metadata": {},
   "source": [
    "## Retrieve patient count with patients with heart failure\n",
    "\n",
    "1) Setup the imports"
   ]
  },
  {
   "cell_type": "code",
   "execution_count": null,
   "metadata": {},
   "outputs": [],
   "source": [
    " # Path has to be set before importing pyqe\n",
    "import sys, os \n",
    "sys.path.append(os.path.join(sys.path[0],'..', '..'))\n",
    " \n",
    "import json\n",
    "from pyqe.api.query import Query\n",
    "from pyqe.api.result import Result\n",
    "from pyqe.ql.interaction import Interactions\n",
    "from pyqe.api.concept_query import ConceptSet, ConceptQuery\n",
    "from pyqe.ql.criteria_group import CriteriaGroup\n",
    "from pyqe.types.enum_types import MatchCriteria, Domain"
   ]
  },
  {
   "cell_type": "markdown",
   "metadata": {},
   "source": [
    "2) Define query with name"
   ]
  },
  {
   "cell_type": "code",
   "execution_count": null,
   "metadata": {},
   "outputs": [],
   "source": [
    "query = Query('Patient_With_Heart_Failure_Count')\n",
    "await query.set_study('703c5d8a-a1d9-4d42-a314-5b9aad513390')"
   ]
  },
  {
   "cell_type": "markdown",
   "metadata": {},
   "source": [
    "3) Generate standard concept ids from concept codes"
   ]
  },
  {
   "cell_type": "code",
   "execution_count": null,
   "metadata": {},
   "outputs": [],
   "source": [
    "conceptQuery = ConceptQuery()\n",
    "concept_codes = ['84114007', '42343007', '85232009', '417996009', '418304008', '441481004', '441530006', '443253003', '443254009', '443343001', '443344007', '442304009', '153931000119109', '153941000119100', '153951000119103']\n",
    "\n",
    "concept_ids = [ (await conceptQuery.get_standard_concept_ids(x))[0]['conceptId'] for x in concept_codes]"
   ]
  },
  {
   "cell_type": "markdown",
   "metadata": {},
   "source": [
    "4) Define condition occurrence filter with heart failure concept codes"
   ]
  },
  {
   "cell_type": "code",
   "execution_count": null,
   "metadata": {},
   "outputs": [],
   "source": [
    "heart_failures = ConceptSet('Heart failures', Domain.CONDITION, concept_ids)\n",
    "heart_failure_condition = Interactions.ConditionOccurrence('Heart failure conditions')\n",
    "heart_failure_condition.add_concept_set(heart_failures)\n"
   ]
  },
  {
   "cell_type": "markdown",
   "metadata": {},
   "source": [
    "5) Define patient count filter request by adding filters"
   ]
  },
  {
   "cell_type": "code",
   "execution_count": null,
   "metadata": {
    "tags": []
   },
   "outputs": [],
   "source": [
    "# Create criteria group to create query matching the filter\n",
    "query.add_criteria_group(CriteriaGroup(MatchCriteria.ANY, [heart_failure_condition]))\n",
    "request = query.get_patient_count_filter()\n",
    "# Print request\n",
    "# print(f'\\nRequest: {json.dumps(request)}')"
   ]
  },
  {
   "cell_type": "markdown",
   "metadata": {},
   "source": [
    "6) Get patient count with request"
   ]
  },
  {
   "cell_type": "code",
   "execution_count": null,
   "metadata": {
    "tags": []
   },
   "outputs": [],
   "source": [
    "patient_count = await Result().get_patient_count(request)\n",
    "print(\n",
    "    f'\\nTotal patients with heart failure condition: {patient_count}')"
   ]
  }
 ],
 "metadata": {
  "kernelspec": {
   "display_name": "Python 3.8.9 64-bit",
   "language": "python",
   "name": "python3"
  },
  "language_info": {
   "codemirror_mode": {
    "name": "ipython",
    "version": 3
   },
   "file_extension": ".py",
   "mimetype": "text/x-python",
   "name": "python",
   "nbconvert_exporter": "python",
   "pygments_lexer": "ipython3",
   "version": "3.8.9"
  },
  "orig_nbformat": 2,
  "vscode": {
   "interpreter": {
    "hash": "31f2aee4e71d21fbe5cf8b01ff0e069b9275f58929596ceb00d14d90e3e16cd6"
   }
  }
 },
 "nbformat": 4,
 "nbformat_minor": 2
}
