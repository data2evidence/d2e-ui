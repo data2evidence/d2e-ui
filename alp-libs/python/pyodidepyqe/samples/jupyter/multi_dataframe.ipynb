{
 "cells": [
  {
   "cell_type": "markdown",
   "metadata": {},
   "source": [
    "## PyQE Download Dataframe Query Demo\n",
    "\n",
    "1) Setup the imports"
   ]
  },
  {
   "cell_type": "code",
   "execution_count": 1,
   "metadata": {},
   "outputs": [],
   "source": [
    "# Path has to be set before importing pyqe\n",
    "import sys, os \n",
    "sys.path.append(os.path.join(sys.path[0],'..', '..'))\n",
    " \n",
    "import json\n",
    "from pyqe import *"
   ]
  },
  {
   "cell_type": "markdown",
   "metadata": {},
   "source": [
    "2) Define authenticated query with female filter and having at least 1 vising"
   ]
  },
  {
   "cell_type": "code",
   "execution_count": 2,
   "metadata": {},
   "outputs": [
    {
     "name": "stderr",
     "output_type": "stream",
     "text": [
      "23-Nov-2021 20:09:07 - INFO - Username is: edward.chua@data4life-asia.care\n",
      "23-Nov-2021 20:09:25 - INFO - Authentication successful\n"
     ]
    },
    {
     "name": "stdout",
     "output_type": "stream",
     "text": [
      "Study Name - Study Id\n",
      "(1) ALP TEST STUDY - 703c5d8a-a1d9-4d42-a314-5b9aad513390\n",
      "Assignment Name, Config Name - Config Id\n",
      "(1) default pa, SYNPUF1K PA - ed138d36-ff2a-4a75-8300-b80ca3576f5e\n"
     ]
    }
   ],
   "source": [
    "female_query = Query('Female_Patients_Dataframe_Query')\n",
    "await female_query.set_study(\"703c5d8a-a1d9-4d42-a314-5b9aad513390\")"
   ]
  },
  {
   "cell_type": "code",
   "execution_count": null,
   "metadata": {},
   "outputs": [],
   "source": [
    "female_patient = Person.Patient()\n",
    "female_constraint = Constraint().add(Expression(ComparisonOperator.EQUAL, 'FEMALE'))\n",
    "female_patient.add_gender([female_constraint])\n",
    "\n",
    "pid_constraint = Constraint().add(Expression(ComparisonOperator.EQUAL, '435'))\n",
    "female_patient.add_patientid([pid_constraint])\n",
    "\n",
    "female_query.add_filters([female_patient])\n",
    "\n",
    "female_query.add_filters([Interactions.ConditionOccurrence('Type 2 diabetes mellitus')])\n",
    "\n",
    "no_columns = await female_query.get_entities_dataframe_cohort()\n",
    "specific_columns_visit = await female_query.get_entities_dataframe_cohort(['patient.interactions.conditionoccurrence.attributes.conditionname'])\n",
    "specific_columns_patient = await female_query.get_entities_dataframe_cohort(['patient.attributes.dateOfBirth', 'patient.attributes.Gender'])\n",
    "one_column_patient_one_column_visit = await female_query.get_entities_dataframe_cohort(['patient.attributes.Gender', 'patient.interactions.conditionoccurrence.attributes.conditionname'])\n",
    "obs_not_in_filtercard = await female_query.get_entities_dataframe_cohort(['patient.interactions.observation.attributes.obstype', 'patient.interactions.observation.attributes.obsname'])"
   ]
  },
  {
   "cell_type": "markdown",
   "metadata": {},
   "source": [
    "3) Download dataframe with request"
   ]
  },
  {
   "cell_type": "code",
   "execution_count": 3,
   "metadata": {},
   "outputs": [
    {
     "name": "stdout",
     "output_type": "stream",
     "text": [
      "all entities for no_columns\n",
      "\n",
      "Patient: 2 rows\n",
      "\n"
     ]
    },
    {
     "data": {
      "text/html": [
       "<table border=\"1\" class=\"dataframe\">\n",
       "  <thead>\n",
       "    <tr style=\"text-align: right;\">\n",
       "      <th></th>\n",
       "      <th>0</th>\n",
       "      <th>county</th>\n",
       "      <th>ethnicity</th>\n",
       "      <th>gender</th>\n",
       "      <th>race</th>\n",
       "      <th>state</th>\n",
       "      <th>dateofbirth</th>\n",
       "      <th>dateofdeath</th>\n",
       "      <th>ethnicityconceptcode</th>\n",
       "      <th>genderconceptcode</th>\n",
       "      <th>monthofbirth</th>\n",
       "      <th>pid</th>\n",
       "      <th>raceconceptcode</th>\n",
       "      <th>yearofbirth</th>\n",
       "    </tr>\n",
       "  </thead>\n",
       "  <tbody>\n",
       "    <tr>\n",
       "      <th>0</th>\n",
       "      <td>3</td>\n",
       "      <td>NaN</td>\n",
       "      <td>Not Hispanic or Latino</td>\n",
       "      <td>FEMALE</td>\n",
       "      <td>White</td>\n",
       "      <td>NaN</td>\n",
       "      <td>1936-09-01</td>\n",
       "      <td>NaN</td>\n",
       "      <td>38003564</td>\n",
       "      <td>8532</td>\n",
       "      <td>9</td>\n",
       "      <td>3</td>\n",
       "      <td>8527</td>\n",
       "      <td>1936</td>\n",
       "    </tr>\n",
       "    <tr>\n",
       "      <th>1</th>\n",
       "      <td>3</td>\n",
       "      <td>39280.0</td>\n",
       "      <td>Not Hispanic or Latino</td>\n",
       "      <td>FEMALE</td>\n",
       "      <td>White</td>\n",
       "      <td>PA</td>\n",
       "      <td>1936-09-01</td>\n",
       "      <td>NaN</td>\n",
       "      <td>38003564</td>\n",
       "      <td>8532</td>\n",
       "      <td>9</td>\n",
       "      <td>3</td>\n",
       "      <td>8527</td>\n",
       "      <td>1936</td>\n",
       "    </tr>\n",
       "  </tbody>\n",
       "</table>"
      ],
      "text/plain": [
       "<IPython.core.display.HTML object>"
      ]
     },
     "metadata": {},
     "output_type": "display_data"
    },
    {
     "name": "stdout",
     "output_type": "stream",
     "text": [
      "Visit: 1 rows\n",
      "\n"
     ]
    },
    {
     "data": {
      "text/html": [
       "<table border=\"1\" class=\"dataframe\">\n",
       "  <thead>\n",
       "    <tr style=\"text-align: right;\">\n",
       "      <th></th>\n",
       "      <th>pid</th>\n",
       "      <th>enddate</th>\n",
       "      <th>patient.interactions.visit.attributes.pid</th>\n",
       "      <th>startdate</th>\n",
       "      <th>visitconceptcode</th>\n",
       "      <th>visitid</th>\n",
       "      <th>visitname</th>\n",
       "      <th>visittype</th>\n",
       "      <th>visittypeconceptcode</th>\n",
       "    </tr>\n",
       "  </thead>\n",
       "  <tbody>\n",
       "    <tr>\n",
       "      <th>0</th>\n",
       "      <td>3</td>\n",
       "      <td>2009-10-14</td>\n",
       "      <td>1</td>\n",
       "      <td>2009-10-14</td>\n",
       "      <td>No matching concept</td>\n",
       "      <td>3</td>\n",
       "      <td>No matching concept</td>\n",
       "      <td>Visit derived from encounter on claim</td>\n",
       "      <td>OMOP4822465</td>\n",
       "    </tr>\n",
       "  </tbody>\n",
       "</table>"
      ],
      "text/plain": [
       "<IPython.core.display.HTML object>"
      ]
     },
     "metadata": {},
     "output_type": "display_data"
    },
    {
     "name": "stdout",
     "output_type": "stream",
     "text": [
      "all entities for specific_columns_visit\n",
      "\n",
      "Patient: 2 rows\n",
      "\n"
     ]
    },
    {
     "data": {
      "text/html": [
       "<table border=\"1\" class=\"dataframe\">\n",
       "  <thead>\n",
       "    <tr style=\"text-align: right;\">\n",
       "      <th></th>\n",
       "      <th>0</th>\n",
       "      <th>county</th>\n",
       "      <th>ethnicity</th>\n",
       "      <th>gender</th>\n",
       "      <th>race</th>\n",
       "      <th>state</th>\n",
       "      <th>dateofbirth</th>\n",
       "      <th>dateofdeath</th>\n",
       "      <th>ethnicityconceptcode</th>\n",
       "      <th>genderconceptcode</th>\n",
       "      <th>monthofbirth</th>\n",
       "      <th>pid</th>\n",
       "      <th>raceconceptcode</th>\n",
       "      <th>yearofbirth</th>\n",
       "    </tr>\n",
       "  </thead>\n",
       "  <tbody>\n",
       "    <tr>\n",
       "      <th>0</th>\n",
       "      <td>3</td>\n",
       "      <td>NaN</td>\n",
       "      <td>Not Hispanic or Latino</td>\n",
       "      <td>FEMALE</td>\n",
       "      <td>White</td>\n",
       "      <td>NaN</td>\n",
       "      <td>1936-09-01</td>\n",
       "      <td>NaN</td>\n",
       "      <td>38003564</td>\n",
       "      <td>8532</td>\n",
       "      <td>9</td>\n",
       "      <td>3</td>\n",
       "      <td>8527</td>\n",
       "      <td>1936</td>\n",
       "    </tr>\n",
       "    <tr>\n",
       "      <th>1</th>\n",
       "      <td>3</td>\n",
       "      <td>39280.0</td>\n",
       "      <td>Not Hispanic or Latino</td>\n",
       "      <td>FEMALE</td>\n",
       "      <td>White</td>\n",
       "      <td>PA</td>\n",
       "      <td>1936-09-01</td>\n",
       "      <td>NaN</td>\n",
       "      <td>38003564</td>\n",
       "      <td>8532</td>\n",
       "      <td>9</td>\n",
       "      <td>3</td>\n",
       "      <td>8527</td>\n",
       "      <td>1936</td>\n",
       "    </tr>\n",
       "  </tbody>\n",
       "</table>"
      ],
      "text/plain": [
       "<IPython.core.display.HTML object>"
      ]
     },
     "metadata": {},
     "output_type": "display_data"
    },
    {
     "name": "stdout",
     "output_type": "stream",
     "text": [
      "Visit: 1 rows\n",
      "\n"
     ]
    },
    {
     "data": {
      "text/html": [
       "<table border=\"1\" class=\"dataframe\">\n",
       "  <thead>\n",
       "    <tr style=\"text-align: right;\">\n",
       "      <th></th>\n",
       "      <th>pid</th>\n",
       "      <th>visitname</th>\n",
       "    </tr>\n",
       "  </thead>\n",
       "  <tbody>\n",
       "    <tr>\n",
       "      <th>0</th>\n",
       "      <td>3</td>\n",
       "      <td>No matching concept</td>\n",
       "    </tr>\n",
       "  </tbody>\n",
       "</table>"
      ],
      "text/plain": [
       "<IPython.core.display.HTML object>"
      ]
     },
     "metadata": {},
     "output_type": "display_data"
    },
    {
     "name": "stdout",
     "output_type": "stream",
     "text": [
      "all entities for specific_columns_patient\n",
      "\n",
      "Patient: 1 rows\n",
      "\n"
     ]
    },
    {
     "data": {
      "text/html": [
       "<table border=\"1\" class=\"dataframe\">\n",
       "  <thead>\n",
       "    <tr style=\"text-align: right;\">\n",
       "      <th></th>\n",
       "      <th>pid</th>\n",
       "      <th>gender</th>\n",
       "      <th>dateofbirth</th>\n",
       "    </tr>\n",
       "  </thead>\n",
       "  <tbody>\n",
       "    <tr>\n",
       "      <th>0</th>\n",
       "      <td>3</td>\n",
       "      <td>FEMALE</td>\n",
       "      <td>1936-09-01</td>\n",
       "    </tr>\n",
       "  </tbody>\n",
       "</table>"
      ],
      "text/plain": [
       "<IPython.core.display.HTML object>"
      ]
     },
     "metadata": {},
     "output_type": "display_data"
    },
    {
     "name": "stdout",
     "output_type": "stream",
     "text": [
      "Visit: 1 rows\n",
      "\n"
     ]
    },
    {
     "data": {
      "text/html": [
       "<table border=\"1\" class=\"dataframe\">\n",
       "  <thead>\n",
       "    <tr style=\"text-align: right;\">\n",
       "      <th></th>\n",
       "      <th>pid</th>\n",
       "      <th>enddate</th>\n",
       "      <th>patient.interactions.visit.attributes.pid</th>\n",
       "      <th>startdate</th>\n",
       "      <th>visitconceptcode</th>\n",
       "      <th>visitid</th>\n",
       "      <th>visitname</th>\n",
       "      <th>visittype</th>\n",
       "      <th>visittypeconceptcode</th>\n",
       "    </tr>\n",
       "  </thead>\n",
       "  <tbody>\n",
       "    <tr>\n",
       "      <th>0</th>\n",
       "      <td>3</td>\n",
       "      <td>2009-10-14</td>\n",
       "      <td>1</td>\n",
       "      <td>2009-10-14</td>\n",
       "      <td>No matching concept</td>\n",
       "      <td>3</td>\n",
       "      <td>No matching concept</td>\n",
       "      <td>Visit derived from encounter on claim</td>\n",
       "      <td>OMOP4822465</td>\n",
       "    </tr>\n",
       "  </tbody>\n",
       "</table>"
      ],
      "text/plain": [
       "<IPython.core.display.HTML object>"
      ]
     },
     "metadata": {},
     "output_type": "display_data"
    },
    {
     "name": "stdout",
     "output_type": "stream",
     "text": [
      "patient entity merged with other entities for one_column_patient_one_column_visit\n",
      "\n"
     ]
    },
    {
     "data": {
      "text/html": [
       "<table border=\"1\" class=\"dataframe\">\n",
       "  <thead>\n",
       "    <tr style=\"text-align: right;\">\n",
       "      <th></th>\n",
       "      <th>pid_patient</th>\n",
       "      <th>gender</th>\n",
       "      <th>pid_Visit</th>\n",
       "      <th>visitname</th>\n",
       "    </tr>\n",
       "  </thead>\n",
       "  <tbody>\n",
       "    <tr>\n",
       "      <th>0</th>\n",
       "      <td>3</td>\n",
       "      <td>FEMALE</td>\n",
       "      <td>NaN</td>\n",
       "      <td>NaN</td>\n",
       "    </tr>\n",
       "  </tbody>\n",
       "</table>"
      ],
      "text/plain": [
       "<IPython.core.display.HTML object>"
      ]
     },
     "metadata": {},
     "output_type": "display_data"
    },
    {
     "name": "stdout",
     "output_type": "stream",
     "text": [
      "all entities for obs_not_in_filtercard\n",
      "\n",
      "Patient: 2 rows\n",
      "\n"
     ]
    },
    {
     "data": {
      "text/html": [
       "<table border=\"1\" class=\"dataframe\">\n",
       "  <thead>\n",
       "    <tr style=\"text-align: right;\">\n",
       "      <th></th>\n",
       "      <th>0</th>\n",
       "      <th>county</th>\n",
       "      <th>ethnicity</th>\n",
       "      <th>gender</th>\n",
       "      <th>race</th>\n",
       "      <th>state</th>\n",
       "      <th>dateofbirth</th>\n",
       "      <th>dateofdeath</th>\n",
       "      <th>ethnicityconceptcode</th>\n",
       "      <th>genderconceptcode</th>\n",
       "      <th>monthofbirth</th>\n",
       "      <th>pid</th>\n",
       "      <th>raceconceptcode</th>\n",
       "      <th>yearofbirth</th>\n",
       "    </tr>\n",
       "  </thead>\n",
       "  <tbody>\n",
       "    <tr>\n",
       "      <th>0</th>\n",
       "      <td>3</td>\n",
       "      <td>NaN</td>\n",
       "      <td>Not Hispanic or Latino</td>\n",
       "      <td>FEMALE</td>\n",
       "      <td>White</td>\n",
       "      <td>NaN</td>\n",
       "      <td>1936-09-01</td>\n",
       "      <td>NaN</td>\n",
       "      <td>38003564</td>\n",
       "      <td>8532</td>\n",
       "      <td>9</td>\n",
       "      <td>3</td>\n",
       "      <td>8527</td>\n",
       "      <td>1936</td>\n",
       "    </tr>\n",
       "    <tr>\n",
       "      <th>1</th>\n",
       "      <td>3</td>\n",
       "      <td>39280.0</td>\n",
       "      <td>Not Hispanic or Latino</td>\n",
       "      <td>FEMALE</td>\n",
       "      <td>White</td>\n",
       "      <td>PA</td>\n",
       "      <td>1936-09-01</td>\n",
       "      <td>NaN</td>\n",
       "      <td>38003564</td>\n",
       "      <td>8532</td>\n",
       "      <td>9</td>\n",
       "      <td>3</td>\n",
       "      <td>8527</td>\n",
       "      <td>1936</td>\n",
       "    </tr>\n",
       "  </tbody>\n",
       "</table>"
      ],
      "text/plain": [
       "<IPython.core.display.HTML object>"
      ]
     },
     "metadata": {},
     "output_type": "display_data"
    },
    {
     "name": "stdout",
     "output_type": "stream",
     "text": [
      "Visit: 1 rows\n",
      "\n"
     ]
    },
    {
     "data": {
      "text/html": [
       "<table border=\"1\" class=\"dataframe\">\n",
       "  <thead>\n",
       "    <tr style=\"text-align: right;\">\n",
       "      <th></th>\n",
       "      <th>pid</th>\n",
       "      <th>enddate</th>\n",
       "      <th>patient.interactions.visit.attributes.pid</th>\n",
       "      <th>startdate</th>\n",
       "      <th>visitconceptcode</th>\n",
       "      <th>visitid</th>\n",
       "      <th>visitname</th>\n",
       "      <th>visittype</th>\n",
       "      <th>visittypeconceptcode</th>\n",
       "    </tr>\n",
       "  </thead>\n",
       "  <tbody>\n",
       "    <tr>\n",
       "      <th>0</th>\n",
       "      <td>3</td>\n",
       "      <td>2009-10-14</td>\n",
       "      <td>1</td>\n",
       "      <td>2009-10-14</td>\n",
       "      <td>No matching concept</td>\n",
       "      <td>3</td>\n",
       "      <td>No matching concept</td>\n",
       "      <td>Visit derived from encounter on claim</td>\n",
       "      <td>OMOP4822465</td>\n",
       "    </tr>\n",
       "  </tbody>\n",
       "</table>"
      ],
      "text/plain": [
       "<IPython.core.display.HTML object>"
      ]
     },
     "metadata": {},
     "output_type": "display_data"
    },
    {
     "name": "stdout",
     "output_type": "stream",
     "text": [
      "observation: 1 rows\n",
      "\n"
     ]
    },
    {
     "data": {
      "text/html": [
       "<table border=\"1\" class=\"dataframe\">\n",
       "  <thead>\n",
       "    <tr style=\"text-align: right;\">\n",
       "      <th></th>\n",
       "      <th>pid</th>\n",
       "      <th>obsname</th>\n",
       "      <th>obstype</th>\n",
       "    </tr>\n",
       "  </thead>\n",
       "  <tbody>\n",
       "    <tr>\n",
       "      <th>0</th>\n",
       "      <td>3</td>\n",
       "      <td>History of clinical finding in subject</td>\n",
       "      <td>Chief complaint</td>\n",
       "    </tr>\n",
       "  </tbody>\n",
       "</table>"
      ],
      "text/plain": [
       "<IPython.core.display.HTML object>"
      ]
     },
     "metadata": {},
     "output_type": "display_data"
    }
   ],
   "source": [
    "from IPython.display import display, HTML\n",
    "\n",
    "\n",
    "async def printer(title: str = \"\", d: dict = {}):\n",
    "    print(f\"patient entity merged with other entities for {title}\\n\")\n",
    "    r = await Result().download_patient_dataframe(d)\n",
    "    display(HTML(r[:10].to_html()))\n",
    "\n",
    "\n",
    "async def printer2(title: str = \"\", d: dict = {}):\n",
    "    print(f\"all entities for {title}\\n\")\n",
    "    r = await Result().download_all_entities_dataframe(d)\n",
    "    for entity_name in r.keys():\n",
    "        print(f\"{entity_name}: {len(r[entity_name])} rows\\n\")\n",
    "        display(HTML(r[entity_name][:10].to_html()))\n",
    "\n",
    "\n",
    "\n",
    "\n",
    "await printer2(\"no_columns\", no_columns)\n",
    "await printer2(\"specific_columns_visit\", specific_columns_visit)\n",
    "await printer2(\"specific_columns_patient\", specific_columns_patient)\n",
    "await printer(\"one_column_patient_one_column_visit\", one_column_patient_one_column_visit)\n",
    "await printer2(\"obs_not_in_filtercard\", obs_not_in_filtercard)"
   ]
  }
 ],
 "metadata": {
  "interpreter": {
   "hash": "916dbcbb3f70747c44a77c7bcd40155683ae19c65e1c03b4aa3499c5328201f1"
  },
  "kernelspec": {
   "display_name": "Python 3.8.10 64-bit",
   "name": "python3"
  },
  "language_info": {
   "codemirror_mode": {
    "name": "ipython",
    "version": 3
   },
   "file_extension": ".py",
   "mimetype": "text/x-python",
   "name": "python",
   "nbconvert_exporter": "python",
   "pygments_lexer": "ipython3",
   "version": "3.8.10"
  },
  "orig_nbformat": 2
 },
 "nbformat": 4,
 "nbformat_minor": 2
}
